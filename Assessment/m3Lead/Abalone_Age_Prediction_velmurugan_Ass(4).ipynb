{
  "nbformat": 4,
  "nbformat_minor": 0,
  "metadata": {
    "colab": {
      "provenance": [],
      "collapsed_sections": [
        "pEzxpUcfMkBr",
        "V2frbe5WN8Qh",
        "BRL1AKveQNm9",
        "YPYyF1wpRIbp",
        "DWaab7aqRrUg",
        "SlQKFoHZSRdb",
        "GVDr996rSsfA",
        "6VY0FOTmTCiN",
        "i8UvtRKmTPsJ",
        "olyDwqXJTfDZ",
        "GyV9D9FQT0tA",
        "HUWSrcYST_sV"
      ]
    },
    "kernelspec": {
      "name": "python3",
      "display_name": "Python 3"
    },
    "language_info": {
      "name": "python"
    }
  },
  "cells": [
    {
      "cell_type": "markdown",
      "source": [
        "ASSIGNMENT 4 \n",
        "\n",
        "**VELMURUGAN C**\n",
        "\n",
        "621319106100\n",
        "\n",
        "# ***Problem Statement: Abalone Age Prediction***\n",
        "Description:- Predicting the age of abalone from physical measurements. The age of abalone is determined by cutting the shell through the cone, staining it, and counting the number of rings through a microscope -- a boring and time-consuming task. Other measurements, which are easier to obtain, are used to predict age. Further information, such as weather patterns and location (hence food availability) may be required to solve the problem.\n",
        "\n",
        "# ***Building a Regression Model***\n",
        "1. Download the dataset\n",
        "\n",
        "2. Load the dataset into the tool.\n",
        "\n",
        "3. Perform Below Visualizations.\n",
        "\n",
        " ∙ Univariate Analysis\n",
        "\n",
        " ∙ Bi-Variate Analysis\n",
        "\n",
        " ∙ Multi-Variate Analysis\n",
        "\n",
        "4. Perform descriptive statistics on the dataset.\n",
        "\n",
        "5. Check for Missing values and deal with them.\n",
        "\n",
        "6. Find the outliers and replace them outliers\n",
        "\n",
        "7. Check for Categorical columns and perform encoding.\n",
        "\n",
        "8. Split the data into dependent and independent variables.\n",
        "\n",
        "9. Scale the independent variables\n",
        "\n",
        "10. Split the data into training and testing\n",
        "\n",
        "11. Build the Model\n",
        "\n",
        "12. Train the Model\n",
        "\n",
        "13. Test the Model\n",
        "\n",
        "14. Measure the performance using Metrics."
      ],
      "metadata": {
        "id": "4t_6jCLsUaJy"
      }
    },
    {
      "cell_type": "code",
      "execution_count": 1,
      "metadata": {
        "id": "B6uOq67NLPp9"
      },
      "outputs": [],
      "source": [
        "#import libraries\n",
        "import numpy as np\n",
        "import pandas as pd\n",
        "import matplotlib.pyplot as plt\n",
        "import seaborn as sb\n",
        "import plotly.express as px"
      ]
    },
    {
      "cell_type": "markdown",
      "source": [
        "# ***2. Load the dataset into the tool***"
      ],
      "metadata": {
        "id": "pEzxpUcfMkBr"
      }
    },
    {
      "cell_type": "code",
      "source": [
        "df = pd.read_csv('/content/drive/My Drive/abalone.csv')\n",
        "df"
      ],
      "metadata": {
        "colab": {
          "base_uri": "https://localhost:8080/",
          "height": 424
        },
        "id": "ihQvA9ihMwyU",
        "outputId": "61f9556d-4359-462e-9f7d-c0cd0221f420"
      },
      "execution_count": 3,
      "outputs": [
        {
          "output_type": "execute_result",
          "data": {
            "text/plain": [
              "     Sex  Length  Diameter  Height  Whole weight  Shucked weight  \\\n",
              "0      M   0.455     0.365   0.095        0.5140          0.2245   \n",
              "1      M   0.350     0.265   0.090        0.2255          0.0995   \n",
              "2      F   0.530     0.420   0.135        0.6770          0.2565   \n",
              "3      M   0.440     0.365   0.125        0.5160          0.2155   \n",
              "4      I   0.330     0.255   0.080        0.2050          0.0895   \n",
              "...   ..     ...       ...     ...           ...             ...   \n",
              "4172   F   0.565     0.450   0.165        0.8870          0.3700   \n",
              "4173   M   0.590     0.440   0.135        0.9660          0.4390   \n",
              "4174   M   0.600     0.475   0.205        1.1760          0.5255   \n",
              "4175   F   0.625     0.485   0.150        1.0945          0.5310   \n",
              "4176   M   0.710     0.555   0.195        1.9485          0.9455   \n",
              "\n",
              "      Viscera weight  Shell weight  Rings  \n",
              "0             0.1010        0.1500     15  \n",
              "1             0.0485        0.0700      7  \n",
              "2             0.1415        0.2100      9  \n",
              "3             0.1140        0.1550     10  \n",
              "4             0.0395        0.0550      7  \n",
              "...              ...           ...    ...  \n",
              "4172          0.2390        0.2490     11  \n",
              "4173          0.2145        0.2605     10  \n",
              "4174          0.2875        0.3080      9  \n",
              "4175          0.2610        0.2960     10  \n",
              "4176          0.3765        0.4950     12  \n",
              "\n",
              "[4177 rows x 9 columns]"
            ],
            "text/html": [
              "\n",
              "  <div id=\"df-2c62d5ea-cc24-4d70-933f-b465522e61fb\">\n",
              "    <div class=\"colab-df-container\">\n",
              "      <div>\n",
              "<style scoped>\n",
              "    .dataframe tbody tr th:only-of-type {\n",
              "        vertical-align: middle;\n",
              "    }\n",
              "\n",
              "    .dataframe tbody tr th {\n",
              "        vertical-align: top;\n",
              "    }\n",
              "\n",
              "    .dataframe thead th {\n",
              "        text-align: right;\n",
              "    }\n",
              "</style>\n",
              "<table border=\"1\" class=\"dataframe\">\n",
              "  <thead>\n",
              "    <tr style=\"text-align: right;\">\n",
              "      <th></th>\n",
              "      <th>Sex</th>\n",
              "      <th>Length</th>\n",
              "      <th>Diameter</th>\n",
              "      <th>Height</th>\n",
              "      <th>Whole weight</th>\n",
              "      <th>Shucked weight</th>\n",
              "      <th>Viscera weight</th>\n",
              "      <th>Shell weight</th>\n",
              "      <th>Rings</th>\n",
              "    </tr>\n",
              "  </thead>\n",
              "  <tbody>\n",
              "    <tr>\n",
              "      <th>0</th>\n",
              "      <td>M</td>\n",
              "      <td>0.455</td>\n",
              "      <td>0.365</td>\n",
              "      <td>0.095</td>\n",
              "      <td>0.5140</td>\n",
              "      <td>0.2245</td>\n",
              "      <td>0.1010</td>\n",
              "      <td>0.1500</td>\n",
              "      <td>15</td>\n",
              "    </tr>\n",
              "    <tr>\n",
              "      <th>1</th>\n",
              "      <td>M</td>\n",
              "      <td>0.350</td>\n",
              "      <td>0.265</td>\n",
              "      <td>0.090</td>\n",
              "      <td>0.2255</td>\n",
              "      <td>0.0995</td>\n",
              "      <td>0.0485</td>\n",
              "      <td>0.0700</td>\n",
              "      <td>7</td>\n",
              "    </tr>\n",
              "    <tr>\n",
              "      <th>2</th>\n",
              "      <td>F</td>\n",
              "      <td>0.530</td>\n",
              "      <td>0.420</td>\n",
              "      <td>0.135</td>\n",
              "      <td>0.6770</td>\n",
              "      <td>0.2565</td>\n",
              "      <td>0.1415</td>\n",
              "      <td>0.2100</td>\n",
              "      <td>9</td>\n",
              "    </tr>\n",
              "    <tr>\n",
              "      <th>3</th>\n",
              "      <td>M</td>\n",
              "      <td>0.440</td>\n",
              "      <td>0.365</td>\n",
              "      <td>0.125</td>\n",
              "      <td>0.5160</td>\n",
              "      <td>0.2155</td>\n",
              "      <td>0.1140</td>\n",
              "      <td>0.1550</td>\n",
              "      <td>10</td>\n",
              "    </tr>\n",
              "    <tr>\n",
              "      <th>4</th>\n",
              "      <td>I</td>\n",
              "      <td>0.330</td>\n",
              "      <td>0.255</td>\n",
              "      <td>0.080</td>\n",
              "      <td>0.2050</td>\n",
              "      <td>0.0895</td>\n",
              "      <td>0.0395</td>\n",
              "      <td>0.0550</td>\n",
              "      <td>7</td>\n",
              "    </tr>\n",
              "    <tr>\n",
              "      <th>...</th>\n",
              "      <td>...</td>\n",
              "      <td>...</td>\n",
              "      <td>...</td>\n",
              "      <td>...</td>\n",
              "      <td>...</td>\n",
              "      <td>...</td>\n",
              "      <td>...</td>\n",
              "      <td>...</td>\n",
              "      <td>...</td>\n",
              "    </tr>\n",
              "    <tr>\n",
              "      <th>4172</th>\n",
              "      <td>F</td>\n",
              "      <td>0.565</td>\n",
              "      <td>0.450</td>\n",
              "      <td>0.165</td>\n",
              "      <td>0.8870</td>\n",
              "      <td>0.3700</td>\n",
              "      <td>0.2390</td>\n",
              "      <td>0.2490</td>\n",
              "      <td>11</td>\n",
              "    </tr>\n",
              "    <tr>\n",
              "      <th>4173</th>\n",
              "      <td>M</td>\n",
              "      <td>0.590</td>\n",
              "      <td>0.440</td>\n",
              "      <td>0.135</td>\n",
              "      <td>0.9660</td>\n",
              "      <td>0.4390</td>\n",
              "      <td>0.2145</td>\n",
              "      <td>0.2605</td>\n",
              "      <td>10</td>\n",
              "    </tr>\n",
              "    <tr>\n",
              "      <th>4174</th>\n",
              "      <td>M</td>\n",
              "      <td>0.600</td>\n",
              "      <td>0.475</td>\n",
              "      <td>0.205</td>\n",
              "      <td>1.1760</td>\n",
              "      <td>0.5255</td>\n",
              "      <td>0.2875</td>\n",
              "      <td>0.3080</td>\n",
              "      <td>9</td>\n",
              "    </tr>\n",
              "    <tr>\n",
              "      <th>4175</th>\n",
              "      <td>F</td>\n",
              "      <td>0.625</td>\n",
              "      <td>0.485</td>\n",
              "      <td>0.150</td>\n",
              "      <td>1.0945</td>\n",
              "      <td>0.5310</td>\n",
              "      <td>0.2610</td>\n",
              "      <td>0.2960</td>\n",
              "      <td>10</td>\n",
              "    </tr>\n",
              "    <tr>\n",
              "      <th>4176</th>\n",
              "      <td>M</td>\n",
              "      <td>0.710</td>\n",
              "      <td>0.555</td>\n",
              "      <td>0.195</td>\n",
              "      <td>1.9485</td>\n",
              "      <td>0.9455</td>\n",
              "      <td>0.3765</td>\n",
              "      <td>0.4950</td>\n",
              "      <td>12</td>\n",
              "    </tr>\n",
              "  </tbody>\n",
              "</table>\n",
              "<p>4177 rows × 9 columns</p>\n",
              "</div>\n",
              "      <button class=\"colab-df-convert\" onclick=\"convertToInteractive('df-2c62d5ea-cc24-4d70-933f-b465522e61fb')\"\n",
              "              title=\"Convert this dataframe to an interactive table.\"\n",
              "              style=\"display:none;\">\n",
              "        \n",
              "  <svg xmlns=\"http://www.w3.org/2000/svg\" height=\"24px\"viewBox=\"0 0 24 24\"\n",
              "       width=\"24px\">\n",
              "    <path d=\"M0 0h24v24H0V0z\" fill=\"none\"/>\n",
              "    <path d=\"M18.56 5.44l.94 2.06.94-2.06 2.06-.94-2.06-.94-.94-2.06-.94 2.06-2.06.94zm-11 1L8.5 8.5l.94-2.06 2.06-.94-2.06-.94L8.5 2.5l-.94 2.06-2.06.94zm10 10l.94 2.06.94-2.06 2.06-.94-2.06-.94-.94-2.06-.94 2.06-2.06.94z\"/><path d=\"M17.41 7.96l-1.37-1.37c-.4-.4-.92-.59-1.43-.59-.52 0-1.04.2-1.43.59L10.3 9.45l-7.72 7.72c-.78.78-.78 2.05 0 2.83L4 21.41c.39.39.9.59 1.41.59.51 0 1.02-.2 1.41-.59l7.78-7.78 2.81-2.81c.8-.78.8-2.07 0-2.86zM5.41 20L4 18.59l7.72-7.72 1.47 1.35L5.41 20z\"/>\n",
              "  </svg>\n",
              "      </button>\n",
              "      \n",
              "  <style>\n",
              "    .colab-df-container {\n",
              "      display:flex;\n",
              "      flex-wrap:wrap;\n",
              "      gap: 12px;\n",
              "    }\n",
              "\n",
              "    .colab-df-convert {\n",
              "      background-color: #E8F0FE;\n",
              "      border: none;\n",
              "      border-radius: 50%;\n",
              "      cursor: pointer;\n",
              "      display: none;\n",
              "      fill: #1967D2;\n",
              "      height: 32px;\n",
              "      padding: 0 0 0 0;\n",
              "      width: 32px;\n",
              "    }\n",
              "\n",
              "    .colab-df-convert:hover {\n",
              "      background-color: #E2EBFA;\n",
              "      box-shadow: 0px 1px 2px rgba(60, 64, 67, 0.3), 0px 1px 3px 1px rgba(60, 64, 67, 0.15);\n",
              "      fill: #174EA6;\n",
              "    }\n",
              "\n",
              "    [theme=dark] .colab-df-convert {\n",
              "      background-color: #3B4455;\n",
              "      fill: #D2E3FC;\n",
              "    }\n",
              "\n",
              "    [theme=dark] .colab-df-convert:hover {\n",
              "      background-color: #434B5C;\n",
              "      box-shadow: 0px 1px 3px 1px rgba(0, 0, 0, 0.15);\n",
              "      filter: drop-shadow(0px 1px 2px rgba(0, 0, 0, 0.3));\n",
              "      fill: #FFFFFF;\n",
              "    }\n",
              "  </style>\n",
              "\n",
              "      <script>\n",
              "        const buttonEl =\n",
              "          document.querySelector('#df-2c62d5ea-cc24-4d70-933f-b465522e61fb button.colab-df-convert');\n",
              "        buttonEl.style.display =\n",
              "          google.colab.kernel.accessAllowed ? 'block' : 'none';\n",
              "\n",
              "        async function convertToInteractive(key) {\n",
              "          const element = document.querySelector('#df-2c62d5ea-cc24-4d70-933f-b465522e61fb');\n",
              "          const dataTable =\n",
              "            await google.colab.kernel.invokeFunction('convertToInteractive',\n",
              "                                                     [key], {});\n",
              "          if (!dataTable) return;\n",
              "\n",
              "          const docLinkHtml = 'Like what you see? Visit the ' +\n",
              "            '<a target=\"_blank\" href=https://colab.research.google.com/notebooks/data_table.ipynb>data table notebook</a>'\n",
              "            + ' to learn more about interactive tables.';\n",
              "          element.innerHTML = '';\n",
              "          dataTable['output_type'] = 'display_data';\n",
              "          await google.colab.output.renderOutput(dataTable, element);\n",
              "          const docLink = document.createElement('div');\n",
              "          docLink.innerHTML = docLinkHtml;\n",
              "          element.appendChild(docLink);\n",
              "        }\n",
              "      </script>\n",
              "    </div>\n",
              "  </div>\n",
              "  "
            ]
          },
          "metadata": {},
          "execution_count": 3
        }
      ]
    },
    {
      "cell_type": "markdown",
      "source": [
        "# ***3. Perform Below Visualizations.***"
      ],
      "metadata": {
        "id": "V2frbe5WN8Qh"
      }
    },
    {
      "cell_type": "markdown",
      "source": [
        "∙ Univariate Analysis"
      ],
      "metadata": {
        "id": "ZM8109ZdO9cO"
      }
    },
    {
      "cell_type": "code",
      "source": [
        "df['Rings'].value_counts()\n",
        "df.hist()"
      ],
      "metadata": {
        "colab": {
          "base_uri": "https://localhost:8080/",
          "height": 455
        },
        "id": "dEZvtSivOz-U",
        "outputId": "48ba095b-1f54-4094-fbb2-d39b179ed129"
      },
      "execution_count": 5,
      "outputs": [
        {
          "output_type": "execute_result",
          "data": {
            "text/plain": [
              "array([[<matplotlib.axes._subplots.AxesSubplot object at 0x7f5bf810a750>,\n",
              "        <matplotlib.axes._subplots.AxesSubplot object at 0x7f5bf802c690>,\n",
              "        <matplotlib.axes._subplots.AxesSubplot object at 0x7f5bf7fe4c90>],\n",
              "       [<matplotlib.axes._subplots.AxesSubplot object at 0x7f5bf7fa52d0>,\n",
              "        <matplotlib.axes._subplots.AxesSubplot object at 0x7f5bf7f5c8d0>,\n",
              "        <matplotlib.axes._subplots.AxesSubplot object at 0x7f5bf7f13ed0>],\n",
              "       [<matplotlib.axes._subplots.AxesSubplot object at 0x7f5bf7ed6590>,\n",
              "        <matplotlib.axes._subplots.AxesSubplot object at 0x7f5bf7e8cad0>,\n",
              "        <matplotlib.axes._subplots.AxesSubplot object at 0x7f5bf7e8cb10>]],\n",
              "      dtype=object)"
            ]
          },
          "metadata": {},
          "execution_count": 5
        },
        {
          "output_type": "display_data",
          "data": {
            "text/plain": [
              "<Figure size 432x288 with 9 Axes>"
            ],
            "image/png": "[encoded data removed]"
          },
          "metadata": {
            "needs_background": "light"
          }
        }
      ]
    },
    {
      "cell_type": "markdown",
      "source": [
        "∙ Bi-Variate Analysis"
      ],
      "metadata": {
        "id": "5fQTmu0ZPlJU"
      }
    },
    {
      "cell_type": "code",
      "source": [
        "plt.scatter(df.Rings, df.Sex)\n",
        "plt.title('The Gender of Abalone vs Number of Rings')\n",
        "plt.xlabel('No. of Rings')\n",
        "plt.ylabel('Gender')"
      ],
      "metadata": {
        "colab": {
          "base_uri": "https://localhost:8080/",
          "height": 312
        },
        "id": "JXGsHrXkPqaj",
        "outputId": "56af1d3a-1fc0-4981-fda6-8439519ca168"
      },
      "execution_count": 7,
      "outputs": [
        {
          "output_type": "execute_result",
          "data": {
            "text/plain": [
              "Text(0, 0.5, 'Gender')"
            ]
          },
          "metadata": {},
          "execution_count": 7
        },
        {
          "output_type": "display_data",
          "data": {
            "text/plain": [
              "<Figure size 432x288 with 1 Axes>"
            ],
            "image/png": "[encoded data removed]"
          },
          "metadata": {
            "needs_background": "light"
          }
        }
      ]
    },
    {
      "cell_type": "markdown",
      "source": [
        "∙ Multi-Variate Analysis"
      ],
      "metadata": {
        "id": "d0SjirdZP9So"
      }
    },
    {
      "cell_type": "code",
      "source": [
        "sb.heatmap(df.corr(),annot=True)"
      ],
      "metadata": {
        "colab": {
          "base_uri": "https://localhost:8080/",
          "height": 356
        },
        "id": "cArDWuvFQCPk",
        "outputId": "8c5f8fa4-df59-4824-87e9-ef968f660713"
      },
      "execution_count": 8,
      "outputs": [
        {
          "output_type": "execute_result",
          "data": {
            "text/plain": [
              "<matplotlib.axes._subplots.AxesSubplot at 0x7f5bf775a150>"
            ]
          },
          "metadata": {},
          "execution_count": 8
        },
        {
          "output_type": "display_data",
          "data": {
            "text/plain": [
              "<Figure size 432x288 with 2 Axes>"
            ],
            "image/png": "[encoded data removed]"
          },
          "metadata": {
            "needs_background": "light"
          }
        }
      ]
    },
    {
      "cell_type": "markdown",
      "source": [
        "# ***4. Perform descriptive statistics on the dataset.***"
      ],
      "metadata": {
        "id": "BRL1AKveQNm9"
      }
    },
    {
      "cell_type": "code",
      "source": [
        "df.info()"
      ],
      "metadata": {
        "colab": {
          "base_uri": "https://localhost:8080/"
        },
        "id": "0SlGJrRSQkyc",
        "outputId": "49c8832b-e6d3-4310-e8a6-8dd89439aa85"
      },
      "execution_count": 10,
      "outputs": [
        {
          "output_type": "stream",
          "name": "stdout",
          "text": [
            "<class 'pandas.core.frame.DataFrame'>\n",
            "RangeIndex: 4177 entries, 0 to 4176\n",
            "Data columns (total 9 columns):\n",
            " #   Column          Non-Null Count  Dtype  \n",
            "---  ------          --------------  -----  \n",
            " 0   Sex             4177 non-null   object \n",
            " 1   Length          4177 non-null   float64\n",
            " 2   Diameter        4177 non-null   float64\n",
            " 3   Height          4177 non-null   float64\n",
            " 4   Whole weight    4177 non-null   float64\n",
            " 5   Shucked weight  4177 non-null   float64\n",
            " 6   Viscera weight  4177 non-null   float64\n",
            " 7   Shell weight    4177 non-null   float64\n",
            " 8   Rings           4177 non-null   int64  \n",
            "dtypes: float64(7), int64(1), object(1)\n",
            "memory usage: 293.8+ KB\n"
          ]
        }
      ]
    },
    {
      "cell_type": "code",
      "source": [
        "df.describe()"
      ],
      "metadata": {
        "colab": {
          "base_uri": "https://localhost:8080/",
          "height": 300
        },
        "id": "nJ0ZWPwSQ0FU",
        "outputId": "76d401b2-4b55-4826-c65f-823d8892d9af"
      },
      "execution_count": 11,
      "outputs": [
        {
          "output_type": "execute_result",
          "data": {
            "text/plain": [
              "            Length     Diameter       Height  Whole weight  Shucked weight  \\\n",
              "count  4177.000000  4177.000000  4177.000000   4177.000000     4177.000000   \n",
              "mean      0.523992     0.407881     0.139516      0.828742        0.359367   \n",
              "std       0.120093     0.099240     0.041827      0.490389        0.221963   \n",
              "min       0.075000     0.055000     0.000000      0.002000        0.001000   \n",
              "25%       0.450000     0.350000     0.115000      0.441500        0.186000   \n",
              "50%       0.545000     0.425000     0.140000      0.799500        0.336000   \n",
              "75%       0.615000     0.480000     0.165000      1.153000        0.502000   \n",
              "max       0.815000     0.650000     1.130000      2.825500        1.488000   \n",
              "\n",
              "       Viscera weight  Shell weight        Rings  \n",
              "count     4177.000000   4177.000000  4177.000000  \n",
              "mean         0.180594      0.238831     9.933684  \n",
              "std          0.109614      0.139203     3.224169  \n",
              "min          0.000500      0.001500     1.000000  \n",
              "25%          0.093500      0.130000     8.000000  \n",
              "50%          0.171000      0.234000     9.000000  \n",
              "75%          0.253000      0.329000    11.000000  \n",
              "max          0.760000      1.005000    29.000000  "
            ],
            "text/html": [
              "\n",
              "  <div id=\"df-1dfdfc68-e00a-4f51-8cd8-9afc21d4093e\">\n",
              "    <div class=\"colab-df-container\">\n",
              "      <div>\n",
              "<style scoped>\n",
              "    .dataframe tbody tr th:only-of-type {\n",
              "        vertical-align: middle;\n",
              "    }\n",
              "\n",
              "    .dataframe tbody tr th {\n",
              "        vertical-align: top;\n",
              "    }\n",
              "\n",
              "    .dataframe thead th {\n",
              "        text-align: right;\n",
              "    }\n",
              "</style>\n",
              "<table border=\"1\" class=\"dataframe\">\n",
              "  <thead>\n",
              "    <tr style=\"text-align: right;\">\n",
              "      <th></th>\n",
              "      <th>Length</th>\n",
              "      <th>Diameter</th>\n",
              "      <th>Height</th>\n",
              "      <th>Whole weight</th>\n",
              "      <th>Shucked weight</th>\n",
              "      <th>Viscera weight</th>\n",
              "      <th>Shell weight</th>\n",
              "      <th>Rings</th>\n",
              "    </tr>\n",
              "  </thead>\n",
              "  <tbody>\n",
              "    <tr>\n",
              "      <th>count</th>\n",
              "      <td>4177.000000</td>\n",
              "      <td>4177.000000</td>\n",
              "      <td>4177.000000</td>\n",
              "      <td>4177.000000</td>\n",
              "      <td>4177.000000</td>\n",
              "      <td>4177.000000</td>\n",
              "      <td>4177.000000</td>\n",
              "      <td>4177.000000</td>\n",
              "    </tr>\n",
              "    <tr>\n",
              "      <th>mean</th>\n",
              "      <td>0.523992</td>\n",
              "      <td>0.407881</td>\n",
              "      <td>0.139516</td>\n",
              "      <td>0.828742</td>\n",
              "      <td>0.359367</td>\n",
              "      <td>0.180594</td>\n",
              "      <td>0.238831</td>\n",
              "      <td>9.933684</td>\n",
              "    </tr>\n",
              "    <tr>\n",
              "      <th>std</th>\n",
              "      <td>0.120093</td>\n",
              "      <td>0.099240</td>\n",
              "      <td>0.041827</td>\n",
              "      <td>0.490389</td>\n",
              "      <td>0.221963</td>\n",
              "      <td>0.109614</td>\n",
              "      <td>0.139203</td>\n",
              "      <td>3.224169</td>\n",
              "    </tr>\n",
              "    <tr>\n",
              "      <th>min</th>\n",
              "      <td>0.075000</td>\n",
              "      <td>0.055000</td>\n",
              "      <td>0.000000</td>\n",
              "      <td>0.002000</td>\n",
              "      <td>0.001000</td>\n",
              "      <td>0.000500</td>\n",
              "      <td>0.001500</td>\n",
              "      <td>1.000000</td>\n",
              "    </tr>\n",
              "    <tr>\n",
              "      <th>25%</th>\n",
              "      <td>0.450000</td>\n",
              "      <td>0.350000</td>\n",
              "      <td>0.115000</td>\n",
              "      <td>0.441500</td>\n",
              "      <td>0.186000</td>\n",
              "      <td>0.093500</td>\n",
              "      <td>0.130000</td>\n",
              "      <td>8.000000</td>\n",
              "    </tr>\n",
              "    <tr>\n",
              "      <th>50%</th>\n",
              "      <td>0.545000</td>\n",
              "      <td>0.425000</td>\n",
              "      <td>0.140000</td>\n",
              "      <td>0.799500</td>\n",
              "      <td>0.336000</td>\n",
              "      <td>0.171000</td>\n",
              "      <td>0.234000</td>\n",
              "      <td>9.000000</td>\n",
              "    </tr>\n",
              "    <tr>\n",
              "      <th>75%</th>\n",
              "      <td>0.615000</td>\n",
              "      <td>0.480000</td>\n",
              "      <td>0.165000</td>\n",
              "      <td>1.153000</td>\n",
              "      <td>0.502000</td>\n",
              "      <td>0.253000</td>\n",
              "      <td>0.329000</td>\n",
              "      <td>11.000000</td>\n",
              "    </tr>\n",
              "    <tr>\n",
              "      <th>max</th>\n",
              "      <td>0.815000</td>\n",
              "      <td>0.650000</td>\n",
              "      <td>1.130000</td>\n",
              "      <td>2.825500</td>\n",
              "      <td>1.488000</td>\n",
              "      <td>0.760000</td>\n",
              "      <td>1.005000</td>\n",
              "      <td>29.000000</td>\n",
              "    </tr>\n",
              "  </tbody>\n",
              "</table>\n",
              "</div>\n",
              "      <button class=\"colab-df-convert\" onclick=\"convertToInteractive('df-1dfdfc68-e00a-4f51-8cd8-9afc21d4093e')\"\n",
              "              title=\"Convert this dataframe to an interactive table.\"\n",
              "              style=\"display:none;\">\n",
              "        \n",
              "  <svg xmlns=\"http://www.w3.org/2000/svg\" height=\"24px\"viewBox=\"0 0 24 24\"\n",
              "       width=\"24px\">\n",
              "    <path d=\"M0 0h24v24H0V0z\" fill=\"none\"/>\n",
              "    <path d=\"M18.56 5.44l.94 2.06.94-2.06 2.06-.94-2.06-.94-.94-2.06-.94 2.06-2.06.94zm-11 1L8.5 8.5l.94-2.06 2.06-.94-2.06-.94L8.5 2.5l-.94 2.06-2.06.94zm10 10l.94 2.06.94-2.06 2.06-.94-2.06-.94-.94-2.06-.94 2.06-2.06.94z\"/><path d=\"M17.41 7.96l-1.37-1.37c-.4-.4-.92-.59-1.43-.59-.52 0-1.04.2-1.43.59L10.3 9.45l-7.72 7.72c-.78.78-.78 2.05 0 2.83L4 21.41c.39.39.9.59 1.41.59.51 0 1.02-.2 1.41-.59l7.78-7.78 2.81-2.81c.8-.78.8-2.07 0-2.86zM5.41 20L4 18.59l7.72-7.72 1.47 1.35L5.41 20z\"/>\n",
              "  </svg>\n",
              "      </button>\n",
              "      \n",
              "  <style>\n",
              "    .colab-df-container {\n",
              "      display:flex;\n",
              "      flex-wrap:wrap;\n",
              "      gap: 12px;\n",
              "    }\n",
              "\n",
              "    .colab-df-convert {\n",
              "      background-color: #E8F0FE;\n",
              "      border: none;\n",
              "      border-radius: 50%;\n",
              "      cursor: pointer;\n",
              "      display: none;\n",
              "      fill: #1967D2;\n",
              "      height: 32px;\n",
              "      padding: 0 0 0 0;\n",
              "      width: 32px;\n",
              "    }\n",
              "\n",
              "    .colab-df-convert:hover {\n",
              "      background-color: #E2EBFA;\n",
              "      box-shadow: 0px 1px 2px rgba(60, 64, 67, 0.3), 0px 1px 3px 1px rgba(60, 64, 67, 0.15);\n",
              "      fill: #174EA6;\n",
              "    }\n",
              "\n",
              "    [theme=dark] .colab-df-convert {\n",
              "      background-color: #3B4455;\n",
              "      fill: #D2E3FC;\n",
              "    }\n",
              "\n",
              "    [theme=dark] .colab-df-convert:hover {\n",
              "      background-color: #434B5C;\n",
              "      box-shadow: 0px 1px 3px 1px rgba(0, 0, 0, 0.15);\n",
              "      filter: drop-shadow(0px 1px 2px rgba(0, 0, 0, 0.3));\n",
              "      fill: #FFFFFF;\n",
              "    }\n",
              "  </style>\n",
              "\n",
              "      <script>\n",
              "        const buttonEl =\n",
              "          document.querySelector('#df-1dfdfc68-e00a-4f51-8cd8-9afc21d4093e button.colab-df-convert');\n",
              "        buttonEl.style.display =\n",
              "          google.colab.kernel.accessAllowed ? 'block' : 'none';\n",
              "\n",
              "        async function convertToInteractive(key) {\n",
              "          const element = document.querySelector('#df-1dfdfc68-e00a-4f51-8cd8-9afc21d4093e');\n",
              "          const dataTable =\n",
              "            await google.colab.kernel.invokeFunction('convertToInteractive',\n",
              "                                                     [key], {});\n",
              "          if (!dataTable) return;\n",
              "\n",
              "          const docLinkHtml = 'Like what you see? Visit the ' +\n",
              "            '<a target=\"_blank\" href=https://colab.research.google.com/notebooks/data_table.ipynb>data table notebook</a>'\n",
              "            + ' to learn more about interactive tables.';\n",
              "          element.innerHTML = '';\n",
              "          dataTable['output_type'] = 'display_data';\n",
              "          await google.colab.output.renderOutput(dataTable, element);\n",
              "          const docLink = document.createElement('div');\n",
              "          docLink.innerHTML = docLinkHtml;\n",
              "          element.appendChild(docLink);\n",
              "        }\n",
              "      </script>\n",
              "    </div>\n",
              "  </div>\n",
              "  "
            ]
          },
          "metadata": {},
          "execution_count": 11
        }
      ]
    },
    {
      "cell_type": "markdown",
      "source": [
        "# ***5. Check for Missing values and deal with them.***"
      ],
      "metadata": {
        "id": "YPYyF1wpRIbp"
      }
    },
    {
      "cell_type": "markdown",
      "source": [
        "There is no missing values"
      ],
      "metadata": {
        "id": "ofpLRoQnRR-s"
      }
    },
    {
      "cell_type": "code",
      "source": [
        "df.isnull().any()"
      ],
      "metadata": {
        "colab": {
          "base_uri": "https://localhost:8080/"
        },
        "id": "e-53djuzRNGf",
        "outputId": "0822fe91-9cf2-4177-dd77-774cee5a86ea"
      },
      "execution_count": 12,
      "outputs": [
        {
          "output_type": "execute_result",
          "data": {
            "text/plain": [
              "Sex               False\n",
              "Length            False\n",
              "Diameter          False\n",
              "Height            False\n",
              "Whole weight      False\n",
              "Shucked weight    False\n",
              "Viscera weight    False\n",
              "Shell weight      False\n",
              "Rings             False\n",
              "dtype: bool"
            ]
          },
          "metadata": {},
          "execution_count": 12
        }
      ]
    },
    {
      "cell_type": "markdown",
      "source": [
        "# ***6. Find the outliers and replace them outliers***"
      ],
      "metadata": {
        "id": "DWaab7aqRrUg"
      }
    },
    {
      "cell_type": "markdown",
      "source": [
        "The dataset does not have a outliers"
      ],
      "metadata": {
        "id": "m9CG9GjxRuH_"
      }
    },
    {
      "cell_type": "code",
      "source": [
        "fig = px.histogram(df, x='Whole weight')\n",
        "fig.show()\n"
      ],
      "metadata": {
        "colab": {
          "base_uri": "https://localhost:8080/",
          "height": 542
        },
        "id": "9i3gkrNPSGgN",
        "outputId": "c8f03877-a82d-431b-c6bf-3ee257a5e520"
      },
      "execution_count": 14,
      "outputs": [
        {
          "output_type": "display_data",
          "data": {
            "text/html": [
              "<html>\n",
              "<head><meta charset=\"utf-8\" /></head>\n",
              "<body>\n",
              "    <div>            <script src=\"https://cdnjs.cloudflare.com/ajax/libs/mathjax/2.7.5/MathJax.js?config=TeX-AMS-MML_SVG\"></script><script type=\"text/javascript\">if (window.MathJax) {MathJax.Hub.Config({SVG: {font: \"STIX-Web\"}});}</script>                <script type=\"text/javascript\">window.PlotlyConfig = {MathJaxConfig: 'local'};</script>\n",
              "        <script src=\"https://cdn.plot.ly/plotly-2.8.3.min.js\"></script>                <div id=\"da1b8ded-b35c-46f1-9cb3-df90fee8dade\" class=\"plotly-graph-div\" style=\"height:525px; width:100%;\"></div>            <script type=\"text/javascript\">                                    window.PLOTLYENV=window.PLOTLYENV || {};                                    if (document.getElementById(\"da1b8ded-b35c-46f1-9cb3-df90fee8dade\")) {                    Plotly.newPlot(                        \"da1b8ded-b35c-46f1-9cb3-df90fee8dade\",                        [{\"alignmentgroup\":\"True\",\"bingroup\":\"x\",\"hovertemplate\":\"Whole weight=%{x}<br>count=%{y}<extra></extra>\",\"legendgroup\":\"\",\"marker\":{\"color\":\"#636efa\",\"pattern\":{\"shape\":\"\"}},\"name\":\"\",\"offsetgroup\":\"\",\"orientation\":\"v\",\"showlegend\":false,\"x\":[0.514,0.2255,0.677,0.516,0.205,0.3515,0.7775,0.768,0.5095,0.8945,0.6065,0.406,0.5415,0.6845,0.4755,0.6645,0.2905,0.451,0.2555,0.381,0.2455,0.2255,0.9395,0.7635,1.1615,0.9285,0.9955,0.931,0.9365,0.8635,0.9975,1.639,1.338,1.798,1.7095,0.4795,1.217,0.5225,0.883,0.3275,0.425,0.8515,0.07,0.042,0.042,0.203,0.5795,0.4605,0.161,0.8355,0.595,0.303,0.5415,0.4775,0.385,0.6615,0.4425,0.5895,0.086,0.583,0.4115,0.625,0.6965,0.3785,0.58,0.48,0.915,1.285,0.5305,0.151,0.7665,0.353,1.247,1.185,1.098,1.0075,0.944,0.922,0.788,1.1025,0.941,1.615,0.9885,1.3175,1.013,1.295,1.195,0.8645,0.517,0.9775,0.8115,0.755,1.115,1.262,1.494,1.606,0.725,0.523,0.5225,0.5785,0.2315,0.843,0.883,0.724,1.1735,0.727,0.802,0.6675,0.6335,0.3635,0.5415,0.431,0.3325,0.393,0.6935,0.5915,0.6125,0.402,0.8825,0.2605,0.4205,0.2535,0.766,0.214,0.1755,0.073,0.238,0.2505,1.7255,1.959,1.262,0.4035,0.1915,0.211,0.0975,0.406,0.156,0.2005,0.3555,0.253,0.826,0.741,1.3445,0.797,0.5175,0.549,0.515,0.127,0.0315,0.03,1.053,1.1185,1.3715,1.0565,0.9885,0.722,0.994,1.514,0.9075,1.124,1.056,1.222,1.2445,2.141,1.752,2.55,2.124,1.842,1.981,1.6185,1.9565,0.775,1.065,0.776,0.048,0.1785,0.125,0.1435,0.0465,0.97,0.9395,1.368,1.0235,1.0165,1.5675,1.218,1.0525,1.383,1.199,0.9325,1.1595,1.0225,0.927,0.22,0.8145,0.772,0.644,1.3035,0.922,0.922,0.4165,0.825,0.63,0.8155,0.369,0.482,0.315,0.3795,0.8325,0.2655,0.6345,0.181,0.38,0.6155,0.66,0.8025,0.46,0.324,0.501,0.32,0.455,0.5175,0.5755,0.485,0.3265,0.45,0.3055,0.205,1.1015,0.783,0.836,0.9025,1.4455,0.1155,0.435,0.124,0.002,0.013,0.008,0.021,0.9425,0.1,0.0645,0.1275,0.1655,0.174,0.1585,0.1975,0.156,0.2135,0.1715,1.1235,1.0605,1.094,1.2415,1.011,1.07,0.8975,1.415,1.1015,0.928,0.865,0.8945,0.095,0.1205,0.639,0.895,0.2925,0.6355,0.4995,1.779,1.187,1.219,1.525,1.259,1.844,1.3485,1.642,1.484,0.712,0.8415,0.2415,0.4495,0.6295,0.9565,0.879,0.699,0.6445,0.4775,0.8105,0.996,1.2765,1.116,1.013,1.0575,0.128,0.1105,0.1065,0.549,0.234,0.3485,0.892,0.252,0.217,0.472,0.037,0.0215,1.5415,0.7605,0.9055,1.2435,0.971,1.3305,1.2255,1.3,0.4585,1.242,0.3675,0.8365,0.172,0.0965,0.038,0.2845,0.1055,0.222,0.251,0.1755,0.6435,0.241,0.2255,0.5955,0.3185,0.121,0.0705,1.974,1.3415,1.0875,1.283,1.325,1.0035,1.165,1.3475,1.274,0.568,0.746,0.707,0.756,0.2,0.2715,1.2,1.153,0.8685,0.9535,0.93,1.275,2.13,1.587,1.8085,2.499,1.768,1.227,0.997,1.4225,1.029,1.186,1.016,0.887,1.0735,1.13,1.719,1.566,1.7605,1.787,1.31,1.343,1.7345,1.1775,1.077,0.995,1.1085,1.1405,0.791,0.663,0.5565,0.8445,0.4925,0.7385,0.482,0.609,0.471,0.3215,0.593,0.5615,0.25,0.1995,0.302,0.7155,0.5865,0.6765,0.987,0.5885,0.7225,0.4335,0.6935,0.365,0.8425,0.479,0.911,0.915,0.827,1.1045,0.945,0.9935,0.8565,1.2385,1.0325,1.3135,1.352,1.005,0.625,1.5015,0.529,0.5785,0.101,0.092,1.068,1.0915,1.015,0.943,1.0475,0.9555,1.036,0.9065,0.7505,0.366,0.662,0.217,0.252,0.3055,0.6885,0.2335,0.192,0.85,0.2715,0.3635,0.714,0.9815,0.9265,1.098,0.8205,1.891,1.41,1.4385,0.9245,1.2915,0.8375,1.221,0.199,0.2965,0.7085,0.2665,0.9915,0.0715,0.0545,0.0735,0.0235,1.3905,1.388,1.7445,1.4385,0.7835,0.646,0.3575,0.627,0.7715,0.7395,0.421,1.347,1.756,1.32,1.8075,0.9325,0.849,0.9955,1.0115,0.908,0.92,1.2415,0.8075,1.0595,1.073,0.921,1.2895,1.2635,1.369,0.953,1.248,1.0105,1.0385,0.874,0.854,1.1835,1.115,1.129,1.1745,1.105,0.8395,1.055,0.889,0.8735,1.1095,0.5185,0.6725,0.146,0.08,0.1,0.2795,0.0915,0.147,0.203,0.0385,0.1885,0.218,0.035,0.0545,0.024,0.0155,0.733,0.9715,0.24,0.752,0.458,0.4705,0.38,0.4985,0.454,0.5775,0.1165,0.094,0.2705,0.604,0.415,0.2885,0.3615,0.257,0.1555,0.08,0.0425,0.795,0.875,1.1625,0.9885,0.8,0.514,0.591,0.6265,0.795,1.1905,1.326,0.66,0.364,0.659,0.452,0.7335,0.5465,0.179,0.581,0.406,0.1085,0.387,0.474,0.443,1.066,0.9535,0.9665,1.133,0.9175,0.982,0.8865,1.3675,1.233,0.806,1.4635,0.4935,0.363,0.6655,0.6805,0.8285,0.4625,0.3095,0.745,0.25,0.874,1.514,0.6995,0.8525,0.7135,0.939,1.054,0.981,0.926,0.286,0.265,0.4885,0.5555,0.425,0.195,0.458,0.228,0.1775,0.4085,0.032,0.155,0.4775,0.525,0.3865,0.433,0.17,0.1295,0.0515,0.169,0.673,0.6785,0.498,0.498,0.658,0.322,0.2815,0.944,0.1835,0.49,0.391,0.467,0.5225,0.2105,0.168,0.258,0.1905,0.487,0.5735,0.173,1.1785,0.9,0.1875,0.3715,0.347,0.1145,0.777,0.4885,0.447,0.079,0.1665,0.466,0.1345,0.2305,0.129,0.97,1.14,1.3165,0.9585,1.626,0.781,0.3675,0.281,0.412,0.2245,0.4835,0.605,0.9175,0.5425,0.6175,0.655,0.8115,0.573,0.7865,0.64,0.74,0.5945,0.8165,0.2225,0.2295,0.5725,0.3915,0.8345,0.6515,0.909,0.8045,0.927,0.7305,0.9555,0.636,0.0865,0.3865,0.283,0.019,0.1285,0.0175,0.1165,0.444,0.3515,0.2905,0.536,0.4525,0.316,0.417,0.417,0.203,0.207,0.2765,0.1105,0.176,0.2465,0.1135,0.201,0.1915,0.1035,0.0975,0.0765,0.0265,0.015,0.018,1.0575,1.092,0.99,0.488,0.5005,0.297,0.525,0.77,0.6515,0.8295,0.879,0.823,0.656,0.8665,0.6565,0.669,0.6435,0.862,0.3795,0.835,0.2065,0.7365,0.8175,0.8425,1.001,1.676,0.6595,0.8055,1.5165,0.612,0.547,1.122,1.1365,1.4805,1.5275,1.1375,1.437,1.116,1.0615,1.2565,0.946,0.959,1.613,1.153,0.978,1.1325,0.197,0.785,0.949,0.9805,0.521,0.2685,0.462,0.7605,0.732,0.6775,0.6385,0.5755,0.537,0.93,0.6415,0.8815,0.244,0.0525,1.042,0.5755,0.709,0.644,0.8875,0.8935,0.556,0.51,0.9215,1.0345,0.695,0.7155,0.394,0.745,0.3665,0.495,0.349,0.4405,0.22,0.6615,0.3185,0.1015,0.759,0.4195,0.807,0.875,0.6835,0.067,0.088,0.1715,0.1735,0.183,0.2055,0.18,0.27,0.24,0.2215,0.1375,0.312,0.2895,0.319,0.304,0.306,0.394,0.3735,0.325,0.398,0.501,0.4895,0.378,0.547,0.5805,0.5465,0.6395,0.498,0.609,0.7555,0.5975,0.8275,0.7635,0.891,0.805,0.9185,0.923,1.0145,0.875,0.9685,1.0595,0.952,0.7535,0.958,1.077,1.102,1.11,1.2095,1.1405,1.113,1.3445,1.21,1.29,1.382,1.1035,1.377,1.3435,1.296,1.34,1.3725,1.307,1.2085,1.3825,1.26,1.3555,1.376,1.2945,1.486,1.4715,1.4095,2.0805,1.3905,1.558,1.309,1.8095,1.4785,1.7775,1.6675,1.834,2.8255,0.046,0.0705,0.0665,0.083,0.083,0.092,0.117,0.1625,0.131,0.1385,0.141,0.1485,0.144,0.1575,0.187,0.196,0.1825,0.186,0.1785,0.2225,0.2455,0.249,0.2865,0.215,0.251,0.339,0.3535,0.3335,0.3595,0.376,0.3435,0.382,0.377,0.3645,0.425,0.3995,0.3925,0.4495,0.35,0.4355,0.4195,0.478,0.4445,0.47,0.447,0.5325,0.497,0.4635,0.449,0.467,0.534,0.4415,0.482,0.612,0.582,0.537,0.5915,0.6765,0.64,0.439,0.6015,0.4785,0.649,0.6335,0.61,0.6595,0.56,0.6425,0.6725,0.674,0.685,0.642,0.601,0.769,0.5785,0.769,0.7035,0.796,0.834,0.7125,0.724,0.7325,0.7585,0.8495,0.6515,0.8215,0.7165,0.874,0.9905,0.8105,0.967,0.6975,1.195,1.1935,1.107,1.0635,0.9035,1.114,1.103,1.1155,1.0515,1.012,1.137,1.1335,1.136,1.206,1.063,1.121,1.114,1.213,1.0045,1.044,1.1345,1.161,1.2315,1.1625,1.168,1.2525,1.3315,1.3525,1.3325,1.1435,1.288,1.38,1.278,1.3075,1.1785,1.375,1.4065,1.4025,1.5175,1.394,1.2205,1.636,1.561,1.4325,1.3385,1.2465,1.212,1.304,1.6785,1.622,1.494,1.6525,1.528,1.5905,1.6275,1.3695,1.6085,1.587,1.8375,1.607,1.7005,1.872,1.8385,1.685,2.198,1.9525,1.56,2.555,2.302,0.029,0.0375,0.0325,0.0435,0.059,0.071,0.0685,0.084,0.106,0.1075,0.096,0.1255,0.151,0.1415,0.2015,0.221,0.2345,0.2325,0.2485,0.348,0.32,0.282,0.3245,0.316,0.3625,0.279,0.3685,0.397,0.413,0.418,0.3705,0.409,0.434,0.411,0.462,0.4925,0.3715,0.411,0.3685,0.4155,0.544,0.4845,0.4565,0.4545,0.6245,0.5225,0.5495,0.542,0.519,0.5215,0.5445,0.6795,0.545,0.5575,0.5155,0.6115,0.7765,0.5395,0.5545,1.019,0.6455,0.601,0.7555,0.608,0.617,0.599,0.6665,0.7835,0.793,0.82,0.8145,0.84,0.8315,0.8995,0.8965,0.6405,0.852,0.9595,0.99,1.0095,1.0375,0.8775,0.755,0.9945,1.068,0.8455,0.869,0.907,0.805,1.0225,0.847,1.114,1.859,0.814,0.9615,1.0025,0.93,0.9335,0.9555,0.9955,1.0265,1.1915,1.1025,1.0165,1.1775,1.1175,1.1835,1.056,1.0145,1.3305,1.052,1.0565,0.923,1.027,1.0195,0.858,1.1125,1.3745,1.2065,1.1325,1.2645,1.1565,1.369,1.39,1.1345,1.464,1.202,1.31,1.415,1.346,1.363,1.2975,1.3645,1.7025,1.519,1.454,1.583,1.5535,1.74,1.751,2.273,1.6465,1.219,1.652,2.0045,1.6755,2.103,1.9965,1.187,1.978,1.8795,2.124,1.931,2.236,2.505,2.0065,2.657,0.4645,0.0765,0.0685,0.0835,0.1125,0.1075,0.1055,0.1375,0.1145,0.139,0.2085,0.1595,0.2015,0.179,0.1945,0.2005,0.215,0.1785,0.196,0.1875,0.196,0.213,0.2445,0.217,0.213,0.2385,0.218,0.2465,0.2025,0.218,0.256,0.2105,0.2615,0.2175,0.302,0.228,0.3265,0.284,0.2725,0.2985,0.2675,0.2645,0.33,0.328,0.3335,0.3055,0.301,0.428,0.378,0.3685,0.438,0.448,0.4005,0.4305,0.372,0.466,0.3705,0.4785,0.346,0.411,0.48,0.393,0.5035,0.441,0.492,0.5435,0.4725,0.461,0.4965,0.5125,0.553,0.594,0.6765,0.5795,0.6615,0.5695,0.6215,0.6015,0.594,0.551,0.625,0.711,0.6965,0.5825,0.663,0.6965,0.842,0.694,0.81,0.5745,0.7675,0.6025,0.5765,0.7145,0.717,0.8655,0.7265,0.7715,0.8,0.7285,0.5945,0.7895,0.651,0.8745,0.7535,0.7305,0.8705,0.7395,0.7665,0.7905,0.8205,0.688,1.224,0.974,0.8735,0.8495,0.796,0.744,0.751,0.794,0.9795,0.873,0.7665,0.8965,0.857,1.078,0.892,1.4395,0.7955,0.858,0.9145,1.171,1.0505,1.1135,1.409,1.065,0.7995,0.7715,1.187,0.8855,0.98,1.026,1.1315,1.014,1.12,1.04,0.8895,0.9595,1.238,0.9755,0.9025,1.076,1.0835,0.871,1.244,1.0265,0.9605,1.137,1.0,1.004,1.128,1.054,1.023,1.129,1.118,1.115,1.2815,1.2555,1.293,1.1295,1.082,1.15,1.264,1.2035,1.3205,1.272,1.062,1.0605,1.093,1.101,1.4595,1.211,1.1935,0.986,1.521,1.3135,1.1835,1.401,1.5075,1.16,1.662,1.5365,1.542,1.567,1.3595,1.6445,1.4545,1.3585,1.548,1.337,1.491,1.5615,1.0145,1.7375,1.7925,1.7635,1.556,2.21,2.141,1.5345,1.614,1.9335,2.173,1.737,1.7375,2.1275,2.25,2.5085,2.255,0.014,0.0515,0.2215,0.1985,0.232,0.3155,0.247,0.3025,0.329,0.2815,0.3425,0.2825,0.304,0.2905,0.3895,0.389,0.4405,0.369,0.4565,0.4465,0.4475,0.501,0.436,0.4615,0.4315,0.3685,0.649,0.459,0.566,0.542,0.4725,0.6435,0.526,0.573,0.5525,0.6855,0.556,0.9365,0.5625,0.559,0.7205,0.7045,0.7575,0.7405,0.84,0.793,0.8745,0.8715,0.9875,1.08,0.9155,1.165,0.953,0.906,0.8725,1.151,0.9905,1.04,0.945,1.259,0.9515,1.201,1.289,1.1005,0.8425,1.049,1.012,1.0725,1.4105,1.136,1.1005,1.1105,1.1315,1.271,1.336,1.1345,1.308,1.5335,1.546,1.539,1.318,1.5245,1.466,1.3825,1.175,1.5555,1.7835,1.374,1.389,1.7025,1.5265,1.519,1.741,1.6115,1.7825,1.684,1.858,1.675,2.1055,2.21,1.8725,1.893,0.0475,0.101,0.121,0.117,0.1465,0.168,0.18,0.1775,0.1985,0.2,0.2205,0.1845,0.2225,0.2175,0.2165,0.243,0.237,0.2365,0.257,0.308,0.252,0.281,0.2225,0.304,0.28,0.313,0.317,0.303,0.3295,0.367,0.3245,0.4195,0.457,0.4,0.4255,0.4365,0.393,0.499,0.6325,0.4285,0.4905,0.474,0.536,0.464,0.6025,0.4615,0.624,0.4715,0.602,0.616,0.5955,0.559,0.6025,0.6065,0.4725,0.4745,0.6635,0.5705,0.646,0.5545,0.845,0.664,0.615,0.654,0.707,0.5965,0.6255,0.555,0.8365,0.657,0.836,0.742,0.8195,0.972,0.6275,0.7205,0.686,0.686,0.543,0.717,0.7625,0.639,0.816,0.7815,0.7665,0.5585,0.765,0.9005,0.8225,0.7235,0.849,0.743,0.863,0.802,0.831,0.7805,0.795,0.848,0.833,0.867,0.7405,0.867,0.7965,1.116,0.78,0.985,0.9965,0.8015,0.807,1.0305,0.839,0.9615,0.834,1.0335,0.798,0.7095,0.913,1.207,1.022,0.9015,0.9,0.838,0.959,0.8335,0.9735,1.13,0.9165,0.9175,1.0645,1.059,1.194,0.9775,0.884,0.8025,0.991,0.974,1.434,0.983,1.0725,1.2405,1.022,1.1155,0.9225,1.1185,1.2795,1.0175,1.224,1.154,1.3255,1.221,1.139,1.066,1.2215,0.8565,0.924,1.266,1.0405,1.1165,1.0845,1.0985,1.1955,1.362,1.044,1.0915,1.1965,1.1745,1.233,1.2695,1.489,1.4345,1.2435,1.2615,1.2235,1.247,1.707,1.1605,1.286,1.5595,1.4745,1.226,1.33,1.2415,1.3375,1.363,1.2215,1.371,1.337,1.274,1.488,1.3835,1.274,1.043,1.3485,1.4405,1.3195,1.5175,1.5505,1.6375,1.443,1.289,1.2915,1.3725,1.2975,1.2585,1.39,1.32,1.566,1.619,1.2835,1.382,1.4535,1.6075,1.3735,1.638,1.569,1.8565,1.773,1.58,2.009,1.9805,1.5805,2.015,1.8275,2.125,1.445,2.1425,1.9425,1.747,2.119,1.938,2.2205,2.5155,2.7795,0.2315,0.394,0.597,0.564,0.5965,0.414,0.422,0.82,0.434,0.7615,0.5795,0.5205,0.968,0.869,0.8795,1.0615,0.9225,1.007,0.9605,0.65,0.7545,0.771,1.0835,0.8935,1.358,1.1185,1.205,1.3405,1.02,1.025,0.8145,1.48,0.953,0.8915,1.3005,1.038,1.2525,1.15,1.1135,1.1155,1.0865,1.254,1.169,1.172,1.1845,1.0725,1.3815,1.6125,1.7395,1.5475,1.4245,1.3405,1.4465,1.5845,1.679,1.726,1.5395,2.073,1.5865,2.069,0.027,0.0555,0.1275,0.1885,0.2,0.197,0.223,0.2215,0.2665,0.269,0.2805,0.3305,0.2815,0.2805,0.311,0.368,0.3405,0.3245,0.38,0.335,0.3215,0.358,0.445,0.487,0.4535,0.568,0.5155,0.457,0.5095,0.5,0.494,0.5605,0.599,0.7045,0.7005,0.7125,0.6725,0.5785,0.5185,0.6375,0.5805,0.6645,0.581,0.596,0.6965,0.6095,0.677,0.7245,0.575,0.632,1.0015,0.9455,0.6555,0.6255,0.8145,0.687,0.7995,0.804,0.7495,0.599,0.7075,0.738,0.837,0.832,0.8305,0.667,0.9355,0.8445,0.895,0.8715,1.0005,0.832,0.9415,0.88,0.803,0.785,0.9765,0.992,1.013,0.876,1.099,0.8715,0.8245,0.7955,0.857,0.8265,0.925,1.0465,0.7905,0.8295,0.886,0.97,1.1805,0.99,1.133,1.071,0.862,1.1155,1.031,1.1185,0.957,1.1785,1.0285,1.0875,1.255,1.219,1.035,1.195,1.062,1.5145,1.309,1.0295,1.0485,1.331,1.1565,1.09,1.354,0.984,1.2525,1.2695,1.3405,1.2895,1.195,1.273,1.229,1.1895,1.1145,1.3115,1.1,1.1285,1.4195,1.6195,1.32,1.5535,1.238,1.189,1.375,1.412,1.348,1.1445,1.4415,1.218,1.2475,1.2695,1.429,1.4015,1.312,1.473,1.623,1.534,1.3845,1.6915,1.5715,1.773,1.4405,1.6245,1.866,1.6705,2.081,1.6195,1.8325,2.173,0.029,0.0195,0.0465,0.1195,0.0895,0.0935,0.1115,0.1195,0.097,0.133,0.1745,0.1695,0.17,0.1605,0.271,0.2185,0.196,0.226,0.22,0.3,0.2875,0.316,0.3675,0.3675,0.346,0.4955,0.4675,0.522,0.441,0.5185,0.653,0.5915,0.4825,0.6855,0.6335,0.6875,0.741,0.6355,0.8395,0.9205,0.8215,0.9255,0.8295,1.063,1.115,0.837,0.982,1.112,1.3485,1.5655,0.086,0.1065,0.132,0.1075,0.1745,0.152,0.2755,0.293,0.368,0.312,0.336,0.355,0.379,0.378,0.4655,0.594,0.4935,0.4595,0.4955,0.4325,0.689,0.5465,0.617,0.538,0.7815,0.6355,0.6435,0.5115,0.738,0.699,0.7655,0.7505,0.844,0.8705,0.668,0.83,0.8685,0.839,1.079,0.919,1.1345,0.909,1.2435,1.056,1.2095,1.238,1.644,1.7725,1.2525,1.761,1.3165,1.914,2.1,1.6895,2.032,0.66,0.7455,0.616,0.2825,0.3355,0.651,0.361,0.4775,0.3465,0.25,0.66,0.315,0.276,0.5395,1.04,1.041,1.6885,2.1835,1.2105,0.166,0.452,0.7185,0.232,0.0105,0.0275,0.1445,0.282,0.608,0.433,0.3295,0.4555,0.4585,0.275,0.335,0.4265,0.5765,0.127,1.1505,0.8915,0.97,0.18,0.6985,0.4585,0.4005,0.7145,0.932,0.966,0.9995,1.496,0.5065,0.1735,0.3945,0.4665,0.401,0.3455,0.5205,0.4935,0.3245,0.106,0.4415,1.966,0.3025,0.1225,0.879,1.2275,1.2715,1.806,0.8085,1.3905,1.8465,2.1995,1.817,0.897,0.3245,1.136,0.2735,0.2405,0.1545,0.0145,0.1185,0.0295,0.0385,0.799,1.1845,0.925,1.098,1.071,0.975,1.283,1.0595,0.9195,0.9295,0.8085,0.1485,0.4475,0.6865,0.6335,0.547,0.585,0.927,1.4935,1.0405,0.0605,0.3675,0.099,0.233,0.3625,0.081,1.596,1.4005,1.406,0.9245,1.36,0.43,0.1365,0.14,0.4215,1.5765,1.2125,1.6305,1.142,1.366,1.539,0.445,0.5725,0.19,0.764,0.853,0.5885,0.7875,1.035,1.352,0.958,0.797,0.857,0.2235,0.086,0.692,0.2225,0.7575,0.729,0.903,1.0965,0.903,1.229,1.106,1.171,0.444,0.4755,0.388,0.3785,0.486,0.5265,0.2275,0.5105,0.3105,0.543,0.2225,0.998,1.5455,1.2675,1.1,1.4285,1.793,0.6185,0.5825,0.7485,0.406,1.1005,0.869,0.955,0.9215,1.456,0.893,2.226,1.2125,1.0675,0.8525,0.8615,1.162,0.8705,1.598,1.406,2.033,1.259,1.0935,1.1805,0.7175,0.7575,0.487,0.5705,0.6905,0.4475,0.347,0.352,0.7145,0.3315,0.18,0.974,0.185,0.563,0.3215,0.179,0.702,0.8045,0.8075,0.578,0.385,0.585,0.6375,0.813,0.5735,0.94,1.008,0.775,1.1445,0.6,0.515,0.5795,0.384,0.2965,0.137,0.991,0.925,0.805,0.8915,0.769,0.6185,0.6515,0.2875,0.5545,0.7365,0.306,1.496,0.3605,0.3045,0.592,0.7995,0.5825,0.3435,0.906,0.6295,1.5515,2.526,1.103,0.957,0.86,1.62,1.407,0.9,0.1455,0.075,0.0235,1.247,1.7265,0.8025,0.764,0.8645,0.4715,0.631,0.9455,1.3185,1.7265,1.081,0.9025,1.1415,1.027,1.3445,1.449,0.7745,0.7895,1.3665,1.0295,1.031,1.065,1.885,1.2425,1.969,0.9445,0.354,0.023,0.3575,0.5965,0.383,0.2065,0.382,0.6315,0.3285,0.2165,0.0305,0.024,0.7365,0.6005,0.4285,0.496,0.6195,0.567,0.6505,0.4495,0.4485,0.241,0.197,0.1425,1.2395,1.0385,0.972,1.3315,0.762,0.775,0.437,0.6985,0.435,0.1295,0.8435,1.25,1.017,1.411,1.208,1.0705,0.5895,0.537,0.15,0.651,0.28,0.287,0.3525,0.12,0.494,0.4765,0.2145,0.595,0.4805,0.321,0.096,0.9315,0.782,0.0945,0.6695,0.213,0.525,1.312,1.087,1.523,1.319,0.579,0.8175,0.17,0.796,0.197,0.5255,0.879,0.4625,0.4565,0.528,0.5835,0.884,0.096,0.1855,0.27,0.463,0.198,0.282,0.0995,0.092,0.0625,0.073,0.071,0.036,1.099,0.5905,0.768,0.413,0.8505,0.6915,0.709,0.3755,0.8185,0.227,0.8245,1.1825,1.122,1.6115,1.2985,1.3,1.161,1.489,1.008,0.441,0.742,0.7,0.271,0.8565,0.8975,0.6105,0.1925,0.6635,1.235,0.7615,0.592,0.39,0.7565,0.57,0.2865,0.2935,0.567,0.6245,0.8415,0.7775,0.989,0.6905,0.2,0.109,0.127,0.2885,0.18,0.144,0.4665,0.33,0.3625,0.34,0.365,0.5,0.6265,0.5555,0.6015,0.53,0.6315,0.7715,0.6125,0.872,0.8115,0.8795,0.983,1.145,1.09,1.262,1.185,1.4405,1.332,1.1405,1.201,1.33,1.362,1.647,1.4995,1.6225,1.786,1.791,1.925,1.689,1.659,2.0475,1.6015,2.0165,0.04,0.0565,0.064,0.0875,0.106,0.1315,0.126,0.155,0.149,0.185,0.2545,0.237,0.279,0.3205,0.3335,0.3885,0.545,0.4165,0.495,0.4775,0.468,0.4555,0.46,0.4155,0.4215,0.474,0.486,0.5735,0.468,0.5135,0.6215,0.494,0.6005,0.646,0.7945,0.812,0.828,0.681,0.889,0.7345,0.964,0.963,0.995,0.8585,0.948,0.888,0.9045,1.046,1.1775,1.0765,1.0255,0.9325,1.235,1.247,1.1495,1.1575,1.327,1.2,1.2705,1.2155,1.3245,1.3555,1.127,1.1075,1.4255,1.147,1.286,1.596,1.297,1.251,1.5105,1.4415,1.6385,1.933,1.71,1.8495,1.742,1.7975,2.381,2.398,2.1945,0.049,0.1055,0.1045,0.163,0.2275,0.219,0.3645,0.3265,0.3515,0.3465,0.407,0.4215,0.3755,0.5335,0.442,0.1315,0.5205,0.5535,0.5445,0.554,0.512,0.583,0.5765,0.723,0.5395,0.625,0.5925,0.633,0.832,0.778,0.7865,0.778,0.636,0.8435,0.648,0.784,0.908,1.02,0.811,0.897,0.852,0.938,0.6955,0.861,1.004,1.0115,1.1005,1.108,0.852,1.9875,1.079,1.055,1.198,1.084,1.103,1.1,1.1015,1.3835,1.115,1.085,1.3165,1.3415,1.027,1.1845,1.192,1.285,1.1805,1.2655,1.2895,1.407,1.122,1.4465,1.349,1.269,1.68,1.551,1.4775,1.529,1.7585,1.523,1.7315,1.51,1.88,2.012,2.201,0.0315,0.04,0.0635,0.0985,0.167,0.2015,0.183,0.187,0.1795,0.2065,0.3,0.2295,0.343,0.244,0.3075,0.3415,0.271,0.91,0.268,0.2885,0.3,0.326,0.358,0.314,0.4025,0.3645,0.4235,0.4305,0.3505,0.486,0.471,0.415,0.5195,0.5895,0.5215,0.4475,0.5585,0.596,0.5385,0.7665,0.516,0.7355,0.531,0.607,0.7055,0.6445,0.6315,0.7845,0.9475,0.712,0.89,0.912,0.656,0.936,0.6975,1.1465,0.825,0.72,0.8215,1.017,0.8975,1.2255,0.9865,0.844,0.8465,0.885,0.6735,0.8755,0.9235,0.977,1.0305,1.05,1.1145,0.877,1.285,1.3065,0.8725,1.0265,1.1605,1.0125,1.096,1.205,1.221,1.0005,1.1355,1.3135,1.1955,1.098,1.139,1.2265,1.042,1.368,1.446,1.4045,1.463,1.711,1.74,1.757,1.601,2.165,2.3305,0.0545,0.0725,0.0925,0.183,0.1525,0.187,0.232,0.196,0.2545,0.2625,0.362,0.4445,0.511,0.589,0.5945,0.529,0.872,0.77,0.8435,0.818,0.8035,0.8115,0.782,0.8745,0.984,0.95,1.1735,0.976,1.0785,1.057,1.11,1.142,1.1255,1.1045,1.3405,1.082,1.254,1.2005,1.243,1.286,1.1665,1.144,1.385,1.309,1.527,1.6385,1.691,1.719,1.52,1.613,2.2355,2.3235,0.1245,0.1285,0.181,0.1585,0.1965,0.198,0.1855,0.2145,0.3245,0.2625,0.371,0.298,0.336,0.447,0.4085,0.587,0.494,0.614,0.5075,0.5445,0.6115,0.5605,0.521,0.5775,0.5935,0.597,0.9505,0.616,0.8315,0.8725,0.8155,0.619,0.7595,0.742,0.804,0.664,0.745,0.728,0.777,0.8765,0.9895,0.9655,0.9065,1.049,0.9705,0.92,0.9525,0.7855,0.855,1.142,0.755,0.9745,1.2015,1.1295,0.9205,1.056,1.34,0.9625,1.0475,1.0915,1.167,0.9995,1.0485,1.2735,1.0625,1.1545,1.194,1.1215,0.9335,1.198,0.9545,1.3585,1.2075,1.217,1.217,0.92,0.8765,1.2615,1.2795,1.167,1.1885,1.3765,1.292,1.1795,1.29,1.2075,1.297,1.4585,1.151,1.197,1.539,1.676,1.6645,1.528,1.494,1.277,1.5965,1.3805,1.2565,1.527,1.4005,1.4405,1.482,1.2345,1.3435,1.533,1.8445,1.825,2.0885,2.087,1.884,0.305,0.4295,0.449,1.029,0.981,0.5745,0.693,1.183,0.7905,1.224,0.775,1.2705,1.406,0.873,0.9415,1.007,1.0835,0.9845,1.5245,1.024,1.281,1.148,1.136,1.2235,1.3695,1.006,1.307,1.463,1.2905,1.4265,1.7885,1.6135,2.2305,2.2635,0.074,0.2075,0.237,0.2665,0.215,0.253,0.309,0.3535,0.335,0.3875,0.365,0.4045,0.372,0.3965,0.5225,0.456,0.44,0.507,0.5285,0.572,0.6625,0.6445,0.6275,0.6885,0.6835,0.6855,0.6755,0.783,0.894,0.768,0.95,0.871,0.9785,0.7425,0.737,0.9175,0.8785,1.1275,0.9765,0.974,0.853,0.991,0.9125,0.921,0.869,0.8665,1.089,0.9615,1.145,0.907,1.1635,1.1955,1.31,1.251,1.145,1.154,1.1335,1.2015,1.5595,1.3165,1.403,1.204,1.2895,1.5175,1.3575,1.3645,1.494,1.664,1.545,1.5855,1.666,1.724,1.908,2.073,0.0515,0.057,0.0925,0.204,0.3075,0.262,0.458,0.491,0.474,0.5805,0.728,0.622,0.706,0.5685,0.9385,0.655,0.9465,0.9115,0.942,1.193,1.461,1.489,0.1115,0.1235,0.2815,0.226,0.2285,0.2995,0.361,0.3045,0.3975,0.379,0.4995,0.7775,0.4705,0.751,0.714,0.6995,0.952,0.8755,0.9215,0.8285,1.206,1.2865,1.1945,1.1655,1.2155,1.1735,1.532,1.5105,0.5565,0.547,0.5165,0.764,0.488,0.6905,0.1835,0.97,0.033,0.059,0.046,1.3235,0.8465,1.047,1.2785,1.8745,1.978,1.367,1.742,0.513,0.4085,0.56,0.635,0.875,0.397,0.806,0.204,0.1165,0.17,1.194,0.765,1.151,0.6765,1.571,1.153,1.114,0.9125,0.872,0.792,0.606,0.2265,0.3955,0.61,0.539,0.657,0.2505,0.102,0.2685,0.551,1.307,0.9185,1.707,0.8805,0.4965,0.632,2.2695,0.9235,0.0345,1.3315,0.72,1.032,1.017,0.98,0.1495,0.1515,0.478,0.578,0.6835,0.2725,1.511,1.3035,1.3955,0.1975,0.116,0.523,0.1565,0.384,1.0055,1.1345,1.0835,0.868,1.0915,1.271,1.4985,0.388,1.2355,1.402,0.6025,0.2775,0.973,0.753,1.3765,0.375,0.4135,0.56,0.3915,1.2765,0.96,0.3745,0.696,1.2955,1.2315,1.383,0.2225,1.156,1.477,1.5715,0.858,1.4995,1.467,1.092,1.8165,1.6365,0.906,1.213,1.06,0.161,0.459,0.533,0.6175,0.366,0.4195,0.15,0.8745,0.655,0.484,1.4435,0.8775,1.3105,1.2515,0.9085,1.1705,0.528,0.6625,0.4335,0.3595,1.107,0.8595,0.7735,0.4365,0.501,0.6735,0.415,0.4775,0.5555,0.6445,1.428,1.6195,0.81,1.0385,0.9715,0.868,1.522,1.1255,0.7085,1.0185,0.72,0.6175,0.738,0.597,1.156,1.22,0.7485,1.0735,1.229,1.146,1.145,1.1055,1.67,1.555,0.9285,0.8085,1.057,0.2595,0.438,0.099,0.5085,1.166,0.507,0.6345,0.314,0.4385,0.195,0.451,0.084,0.0245,1.4685,0.7765,0.5425,0.5885,0.3375,0.2565,0.163,0.8095,1.3655,0.967,0.6855,0.314,0.7005,0.4895,0.45,0.259,0.382,0.4435,1.6935,1.71,0.8575,0.97,0.59,0.34,0.385,0.515,0.59,0.51,0.3005,0.683,0.468,0.4075,0.584,0.829,0.4545,0.4385,0.407,0.3085,0.239,0.106,1.178,1.073,0.306,0.301,0.7585,0.171,0.3625,0.0905,1.0885,1.097,1.278,0.44,0.163,0.522,0.9715,0.588,0.5325,0.127,0.0815,0.1635,0.1,0.0265,0.9955,0.6605,0.721,0.1485,0.487,0.955,0.873,1.65,1.1285,1.1115,0.9745,1.4605,1.0105,1.0765,1.2225,1.616,0.559,0.2205,0.44,0.879,0.6815,0.5795,0.209,0.224,0.1765,0.196,0.192,0.3095,0.313,0.3595,0.3855,0.5785,0.674,0.5265,1.0315,0.9,1.0165,1.2495,1.1685,1.148,1.089,1.0325,1.172,1.3715,1.5055,1.9045,2.4925,0.0805,0.111,0.152,0.199,0.219,0.2155,0.2565,0.257,0.2505,0.279,0.378,0.456,0.5055,0.4705,0.643,0.513,0.569,0.578,0.596,0.5725,0.6435,0.8115,0.7115,0.9155,0.8815,0.931,1.065,1.1385,1.234,1.2635,1.0745,1.403,1.1325,1.1115,1.255,1.437,1.3635,1.1435,1.4545,1.478,1.6885,2.0725,1.787,1.523,0.021,0.0455,0.2435,0.2675,0.258,0.2985,0.411,0.38,0.4385,0.4015,0.4485,0.4155,0.7095,0.637,1.1155,0.599,0.5345,0.627,0.7465,0.985,0.85,0.838,0.812,0.7615,0.87,0.9835,0.929,1.0155,0.939,1.164,1.214,1.1345,1.233,1.0815,1.179,1.1635,1.1545,1.3345,1.469,1.492,1.5585,1.3275,1.6615,1.492,1.7365,1.6605,1.348,1.7405,1.7185,0.041,0.0655,0.097,0.131,0.1695,0.192,0.1765,0.1735,0.1785,0.2055,0.2345,0.2305,0.314,0.33,0.2775,0.405,0.309,0.4385,0.396,0.3615,0.514,0.4265,0.384,0.4865,0.4355,0.498,0.494,0.594,0.528,0.5585,0.636,0.567,0.6615,0.658,0.78,0.6075,0.7025,0.8725,1.2365,1.186,0.7745,0.8875,0.8725,0.8515,0.895,0.886,0.9265,0.8295,0.907,1.041,0.9355,1.058,0.7955,1.0805,0.928,1.059,1.157,1.088,0.776,1.043,1.1415,1.3335,1.273,1.1835,1.2135,1.0315,1.3695,1.3745,1.463,1.6275,1.3875,1.46,1.2835,1.3765,1.6465,1.265,1.56,1.6,2.333,0.028,0.226,0.2855,0.325,0.514,0.5755,0.5805,0.678,0.8035,0.913,0.8675,1.0425,1.14,1.3475,1.0735,1.4335,1.304,0.9505,1.385,1.12,1.2645,1.275,1.27,1.583,1.4355,1.42,1.5955,1.89,2.037,0.084,0.1005,0.1285,0.1345,0.1195,0.1895,0.257,0.2745,0.342,0.344,0.3275,0.4035,0.4075,0.4975,0.3685,0.4175,0.4425,0.4225,0.426,0.511,0.573,0.6385,0.657,0.8735,0.781,0.6765,0.769,0.6235,0.7315,0.8075,0.737,0.654,0.7915,0.753,0.717,0.783,0.872,0.983,1.034,0.9855,0.7635,0.9895,0.9365,0.964,1.0455,1.081,1.012,1.122,1.1245,1.1345,1.0805,1.0835,1.242,1.3915,1.085,0.966,1.0855,1.3025,1.15,1.217,1.306,1.273,1.4865,1.3655,1.276,1.2075,1.281,1.4275,1.155,1.35,1.3685,1.431,1.261,1.764,1.278,1.217,1.46,1.5575,1.527,1.4985,1.885,1.432,1.4385,1.564,2.14,1.792,2.548,0.1585,0.4015,0.465,0.2885,0.6475,0.6485,0.452,0.4915,0.9145,0.976,0.7865,0.775,0.8415,0.681,0.6145,1.1655,1.764,1.1215,1.167,1.0375,1.223,1.124,1.2635,1.238,1.4045,1.37,1.8185,1.7525,0.101,0.106,0.1865,0.2575,0.3225,0.32,0.4155,0.3935,0.4775,0.452,0.5065,0.5525,0.565,0.699,0.6055,0.7905,0.702,0.675,0.475,0.612,0.705,0.728,0.846,0.86,0.8875,0.898,0.6545,0.795,1.0535,0.927,0.701,0.8275,0.9845,0.9565,0.86,1.1785,1.2205,0.9685,1.107,1.1305,1.2555,1.177,1.2425,1.09,1.072,1.129,1.2075,1.227,1.472,1.5785,1.4755,1.5545,1.593,1.8995,1.361,1.4575,2.381,0.0495,0.1455,0.129,0.2255,0.359,0.3505,0.5885,0.623,0.5375,0.5655,0.8625,1.137,0.221,0.2425,0.386,0.5315,0.562,0.836,0.9275,0.8815,1.03,1.1685,1.059,1.127,1.1665,1.541,1.7825,1.543,1.47,0.6335,0.754,0.4485,0.8105,0.22,0.4425,0.3555,0.034,0.185,0.79,0.8255,0.62,0.9525,0.955,0.91,0.416,0.2045,0.515,1.604,0.3435,0.3005,0.8255,0.785,0.9685,0.731,0.4405,0.1785,1.373,0.9765,1.018,1.082,1.423,0.655,1.4155,0.1385,0.782,0.717,0.6355,0.3975,0.656,0.744,0.447,0.578,0.1405,0.708,0.1385,0.8615,1.626,0.478,1.1775,0.286,1.058,1.5415,0.817,0.152,0.335,0.4915,0.9705,0.9315,1.221,0.7365,0.97,0.8085,0.4075,0.6295,1.053,1.829,1.1765,0.8765,0.0145,0.476,0.813,0.018,1.064,0.853,0.219,0.0635,0.6275,0.441,0.458,0.4745,0.216,0.6765,0.757,0.7325,1.0285,0.712,1.066,1.3065,0.8545,0.125,0.2225,0.6955,0.266,0.7105,0.487,0.728,0.6675,2.0495,1.498,1.597,0.8605,0.541,0.058,0.0645,0.77,0.541,0.739,0.205,0.8695,0.6555,1.0905,0.6295,1.0985,0.991,0.0615,0.8005,0.6175,0.772,0.7155,0.717,0.6355,0.18,0.5805,0.556,0.591,0.686,1.016,1.438,1.807,1.777,2.173,2.1505,0.118,0.099,0.1365,0.1295,0.164,0.2875,0.277,0.248,0.252,0.4015,0.3905,0.409,0.4095,0.494,0.4905,0.599,0.6245,0.7745,0.9795,0.8915,0.874,1.262,1.21,1.37,1.759,1.3855,1.8065,1.5945,1.4545,2.003,2.2385,0.032,0.0785,0.134,0.2075,0.2235,0.34,0.5365,0.635,0.562,0.597,0.5815,0.7545,0.98,1.0035,1.133,1.146,1.142,1.12,1.011,1.131,1.065,1.181,1.382,1.4385,1.2275,1.4415,1.473,1.658,1.7475,0.096,0.1445,0.1965,0.196,0.2155,0.2805,0.334,0.366,0.4965,0.651,0.5125,0.6925,0.5995,0.74,0.702,0.672,0.811,0.9585,0.858,0.9575,0.926,0.873,0.998,0.6655,1.003,1.234,1.025,1.2935,1.0565,1.7855,1.2255,1.2565,1.159,1.403,1.826,1.7715,0.6125,0.658,0.911,1.1955,1.336,1.36,0.2325,0.317,0.318,0.2645,0.4055,0.524,0.464,0.439,0.5805,0.622,0.7805,0.772,0.741,0.8265,0.7275,0.7005,0.9355,1.1815,1.0145,1.1,1.218,0.874,0.984,1.0105,1.0765,1.337,1.3705,1.7015,1.2435,1.4135,1.073,1.477,1.2915,1.3105,1.4915,1.494,1.1965,1.672,1.9125,1.907,1.79,1.7495,0.3415,0.519,0.5305,1.2825,0.7165,1.6645,0.837,0.9645,1.1,1.2415,1.3185,1.3455,0.1185,0.197,0.4725,0.4495,0.557,0.516,0.709,0.7385,0.7935,0.9205,0.7655,0.824,0.83,0.985,0.997,0.914,1.13,1.0805,1.105,1.229,1.2355,1.2395,1.357,1.402,1.359,1.669,1.7405,1.51,1.6645,2.0505,0.124,0.14,0.1695,0.218,0.384,0.393,0.3805,0.4895,0.5135,0.4495,0.8025,1.053,0.9945,0.3175,0.344,0.2845,0.3035,0.499,0.577,0.615,0.791,0.8395,0.8675,0.887,0.966,1.176,1.0945,1.9485],\"xaxis\":\"x\",\"yaxis\":\"y\",\"type\":\"histogram\"}],                        {\"template\":{\"data\":{\"bar\":[{\"error_x\":{\"color\":\"#2a3f5f\"},\"error_y\":{\"color\":\"#2a3f5f\"},\"marker\":{\"line\":{\"color\":\"#E5ECF6\",\"width\":0.5},\"pattern\":{\"fillmode\":\"overlay\",\"size\":10,\"solidity\":0.2}},\"type\":\"bar\"}],\"barpolar\":[{\"marker\":{\"line\":{\"color\":\"#E5ECF6\",\"width\":0.5},\"pattern\":{\"fillmode\":\"overlay\",\"size\":10,\"solidity\":0.2}},\"type\":\"barpolar\"}],\"carpet\":[{\"aaxis\":{\"endlinecolor\":\"#2a3f5f\",\"gridcolor\":\"white\",\"linecolor\":\"white\",\"minorgridcolor\":\"white\",\"startlinecolor\":\"#2a3f5f\"},\"baxis\":{\"endlinecolor\":\"#2a3f5f\",\"gridcolor\":\"white\",\"linecolor\":\"white\",\"minorgridcolor\":\"white\",\"startlinecolor\":\"#2a3f5f\"},\"type\":\"carpet\"}],\"choropleth\":[{\"colorbar\":{\"outlinewidth\":0,\"ticks\":\"\"},\"type\":\"choropleth\"}],\"contour\":[{\"colorbar\":{\"outlinewidth\":0,\"ticks\":\"\"},\"colorscale\":[[0.0,\"#0d0887\"],[0.1111111111111111,\"#46039f\"],[0.2222222222222222,\"#7201a8\"],[0.3333333333333333,\"#9c179e\"],[0.4444444444444444,\"#bd3786\"],[0.5555555555555556,\"#d8576b\"],[0.6666666666666666,\"#ed7953\"],[0.7777777777777778,\"#fb9f3a\"],[0.8888888888888888,\"#fdca26\"],[1.0,\"#f0f921\"]],\"type\":\"contour\"}],\"contourcarpet\":[{\"colorbar\":{\"outlinewidth\":0,\"ticks\":\"\"},\"type\":\"contourcarpet\"}],\"heatmap\":[{\"colorbar\":{\"outlinewidth\":0,\"ticks\":\"\"},\"colorscale\":[[0.0,\"#0d0887\"],[0.1111111111111111,\"#46039f\"],[0.2222222222222222,\"#7201a8\"],[0.3333333333333333,\"#9c179e\"],[0.4444444444444444,\"#bd3786\"],[0.5555555555555556,\"#d8576b\"],[0.6666666666666666,\"#ed7953\"],[0.7777777777777778,\"#fb9f3a\"],[0.8888888888888888,\"#fdca26\"],[1.0,\"#f0f921\"]],\"type\":\"heatmap\"}],\"heatmapgl\":[{\"colorbar\":{\"outlinewidth\":0,\"ticks\":\"\"},\"colorscale\":[[0.0,\"#0d0887\"],[0.1111111111111111,\"#46039f\"],[0.2222222222222222,\"#7201a8\"],[0.3333333333333333,\"#9c179e\"],[0.4444444444444444,\"#bd3786\"],[0.5555555555555556,\"#d8576b\"],[0.6666666666666666,\"#ed7953\"],[0.7777777777777778,\"#fb9f3a\"],[0.8888888888888888,\"#fdca26\"],[1.0,\"#f0f921\"]],\"type\":\"heatmapgl\"}],\"histogram\":[{\"marker\":{\"pattern\":{\"fillmode\":\"overlay\",\"size\":10,\"solidity\":0.2}},\"type\":\"histogram\"}],\"histogram2d\":[{\"colorbar\":{\"outlinewidth\":0,\"ticks\":\"\"},\"colorscale\":[[0.0,\"#0d0887\"],[0.1111111111111111,\"#46039f\"],[0.2222222222222222,\"#7201a8\"],[0.3333333333333333,\"#9c179e\"],[0.4444444444444444,\"#bd3786\"],[0.5555555555555556,\"#d8576b\"],[0.6666666666666666,\"#ed7953\"],[0.7777777777777778,\"#fb9f3a\"],[0.8888888888888888,\"#fdca26\"],[1.0,\"#f0f921\"]],\"type\":\"histogram2d\"}],\"histogram2dcontour\":[{\"colorbar\":{\"outlinewidth\":0,\"ticks\":\"\"},\"colorscale\":[[0.0,\"#0d0887\"],[0.1111111111111111,\"#46039f\"],[0.2222222222222222,\"#7201a8\"],[0.3333333333333333,\"#9c179e\"],[0.4444444444444444,\"#bd3786\"],[0.5555555555555556,\"#d8576b\"],[0.6666666666666666,\"#ed7953\"],[0.7777777777777778,\"#fb9f3a\"],[0.8888888888888888,\"#fdca26\"],[1.0,\"#f0f921\"]],\"type\":\"histogram2dcontour\"}],\"mesh3d\":[{\"colorbar\":{\"outlinewidth\":0,\"ticks\":\"\"},\"type\":\"mesh3d\"}],\"parcoords\":[{\"line\":{\"colorbar\":{\"outlinewidth\":0,\"ticks\":\"\"}},\"type\":\"parcoords\"}],\"pie\":[{\"automargin\":true,\"type\":\"pie\"}],\"scatter\":[{\"marker\":{\"colorbar\":{\"outlinewidth\":0,\"ticks\":\"\"}},\"type\":\"scatter\"}],\"scatter3d\":[{\"line\":{\"colorbar\":{\"outlinewidth\":0,\"ticks\":\"\"}},\"marker\":{\"colorbar\":{\"outlinewidth\":0,\"ticks\":\"\"}},\"type\":\"scatter3d\"}],\"scattercarpet\":[{\"marker\":{\"colorbar\":{\"outlinewidth\":0,\"ticks\":\"\"}},\"type\":\"scattercarpet\"}],\"scattergeo\":[{\"marker\":{\"colorbar\":{\"outlinewidth\":0,\"ticks\":\"\"}},\"type\":\"scattergeo\"}],\"scattergl\":[{\"marker\":{\"colorbar\":{\"outlinewidth\":0,\"ticks\":\"\"}},\"type\":\"scattergl\"}],\"scattermapbox\":[{\"marker\":{\"colorbar\":{\"outlinewidth\":0,\"ticks\":\"\"}},\"type\":\"scattermapbox\"}],\"scatterpolar\":[{\"marker\":{\"colorbar\":{\"outlinewidth\":0,\"ticks\":\"\"}},\"type\":\"scatterpolar\"}],\"scatterpolargl\":[{\"marker\":{\"colorbar\":{\"outlinewidth\":0,\"ticks\":\"\"}},\"type\":\"scatterpolargl\"}],\"scatterternary\":[{\"marker\":{\"colorbar\":{\"outlinewidth\":0,\"ticks\":\"\"}},\"type\":\"scatterternary\"}],\"surface\":[{\"colorbar\":{\"outlinewidth\":0,\"ticks\":\"\"},\"colorscale\":[[0.0,\"#0d0887\"],[0.1111111111111111,\"#46039f\"],[0.2222222222222222,\"#7201a8\"],[0.3333333333333333,\"#9c179e\"],[0.4444444444444444,\"#bd3786\"],[0.5555555555555556,\"#d8576b\"],[0.6666666666666666,\"#ed7953\"],[0.7777777777777778,\"#fb9f3a\"],[0.8888888888888888,\"#fdca26\"],[1.0,\"#f0f921\"]],\"type\":\"surface\"}],\"table\":[{\"cells\":{\"fill\":{\"color\":\"#EBF0F8\"},\"line\":{\"color\":\"white\"}},\"header\":{\"fill\":{\"color\":\"#C8D4E3\"},\"line\":{\"color\":\"white\"}},\"type\":\"table\"}]},\"layout\":{\"annotationdefaults\":{\"arrowcolor\":\"#2a3f5f\",\"arrowhead\":0,\"arrowwidth\":1},\"autotypenumbers\":\"strict\",\"coloraxis\":{\"colorbar\":{\"outlinewidth\":0,\"ticks\":\"\"}},\"colorscale\":{\"diverging\":[[0,\"#8e0152\"],[0.1,\"#c51b7d\"],[0.2,\"#de77ae\"],[0.3,\"#f1b6da\"],[0.4,\"#fde0ef\"],[0.5,\"#f7f7f7\"],[0.6,\"#e6f5d0\"],[0.7,\"#b8e186\"],[0.8,\"#7fbc41\"],[0.9,\"#4d9221\"],[1,\"#276419\"]],\"sequential\":[[0.0,\"#0d0887\"],[0.1111111111111111,\"#46039f\"],[0.2222222222222222,\"#7201a8\"],[0.3333333333333333,\"#9c179e\"],[0.4444444444444444,\"#bd3786\"],[0.5555555555555556,\"#d8576b\"],[0.6666666666666666,\"#ed7953\"],[0.7777777777777778,\"#fb9f3a\"],[0.8888888888888888,\"#fdca26\"],[1.0,\"#f0f921\"]],\"sequentialminus\":[[0.0,\"#0d0887\"],[0.1111111111111111,\"#46039f\"],[0.2222222222222222,\"#7201a8\"],[0.3333333333333333,\"#9c179e\"],[0.4444444444444444,\"#bd3786\"],[0.5555555555555556,\"#d8576b\"],[0.6666666666666666,\"#ed7953\"],[0.7777777777777778,\"#fb9f3a\"],[0.8888888888888888,\"#fdca26\"],[1.0,\"#f0f921\"]]},\"colorway\":[\"#636efa\",\"#EF553B\",\"#00cc96\",\"#ab63fa\",\"#FFA15A\",\"#19d3f3\",\"#FF6692\",\"#B6E880\",\"#FF97FF\",\"#FECB52\"],\"font\":{\"color\":\"#2a3f5f\"},\"geo\":{\"bgcolor\":\"white\",\"lakecolor\":\"white\",\"landcolor\":\"#E5ECF6\",\"showlakes\":true,\"showland\":true,\"subunitcolor\":\"white\"},\"hoverlabel\":{\"align\":\"left\"},\"hovermode\":\"closest\",\"mapbox\":{\"style\":\"light\"},\"paper_bgcolor\":\"white\",\"plot_bgcolor\":\"#E5ECF6\",\"polar\":{\"angularaxis\":{\"gridcolor\":\"white\",\"linecolor\":\"white\",\"ticks\":\"\"},\"bgcolor\":\"#E5ECF6\",\"radialaxis\":{\"gridcolor\":\"white\",\"linecolor\":\"white\",\"ticks\":\"\"}},\"scene\":{\"xaxis\":{\"backgroundcolor\":\"#E5ECF6\",\"gridcolor\":\"white\",\"gridwidth\":2,\"linecolor\":\"white\",\"showbackground\":true,\"ticks\":\"\",\"zerolinecolor\":\"white\"},\"yaxis\":{\"backgroundcolor\":\"#E5ECF6\",\"gridcolor\":\"white\",\"gridwidth\":2,\"linecolor\":\"white\",\"showbackground\":true,\"ticks\":\"\",\"zerolinecolor\":\"white\"},\"zaxis\":{\"backgroundcolor\":\"#E5ECF6\",\"gridcolor\":\"white\",\"gridwidth\":2,\"linecolor\":\"white\",\"showbackground\":true,\"ticks\":\"\",\"zerolinecolor\":\"white\"}},\"shapedefaults\":{\"line\":{\"color\":\"#2a3f5f\"}},\"ternary\":{\"aaxis\":{\"gridcolor\":\"white\",\"linecolor\":\"white\",\"ticks\":\"\"},\"baxis\":{\"gridcolor\":\"white\",\"linecolor\":\"white\",\"ticks\":\"\"},\"bgcolor\":\"#E5ECF6\",\"caxis\":{\"gridcolor\":\"white\",\"linecolor\":\"white\",\"ticks\":\"\"}},\"title\":{\"x\":0.05},\"xaxis\":{\"automargin\":true,\"gridcolor\":\"white\",\"linecolor\":\"white\",\"ticks\":\"\",\"title\":{\"standoff\":15},\"zerolinecolor\":\"white\",\"zerolinewidth\":2},\"yaxis\":{\"automargin\":true,\"gridcolor\":\"white\",\"linecolor\":\"white\",\"ticks\":\"\",\"title\":{\"standoff\":15},\"zerolinecolor\":\"white\",\"zerolinewidth\":2}}},\"xaxis\":{\"anchor\":\"y\",\"domain\":[0.0,1.0],\"title\":{\"text\":\"Whole weight\"}},\"yaxis\":{\"anchor\":\"x\",\"domain\":[0.0,1.0],\"title\":{\"text\":\"count\"}},\"legend\":{\"tracegroupgap\":0},\"margin\":{\"t\":60},\"barmode\":\"relative\"},                        {\"responsive\": true}                    ).then(function(){\n",
              "                            \n",
              "var gd = document.getElementById('da1b8ded-b35c-46f1-9cb3-df90fee8dade');\n",
              "var x = new MutationObserver(function (mutations, observer) {{\n",
              "        var display = window.getComputedStyle(gd).display;\n",
              "        if (!display || display === 'none') {{\n",
              "            console.log([gd, 'removed!']);\n",
              "            Plotly.purge(gd);\n",
              "            observer.disconnect();\n",
              "        }}\n",
              "}});\n",
              "\n",
              "// Listen for the removal of the full notebook cells\n",
              "var notebookContainer = gd.closest('#notebook-container');\n",
              "if (notebookContainer) {{\n",
              "    x.observe(notebookContainer, {childList: true});\n",
              "}}\n",
              "\n",
              "// Listen for the clearing of the current output cell\n",
              "var outputEl = gd.closest('.output');\n",
              "if (outputEl) {{\n",
              "    x.observe(outputEl, {childList: true});\n",
              "}}\n",
              "\n",
              "                        })                };                            </script>        </div>\n",
              "</body>\n",
              "</html>"
            ]
          },
          "metadata": {}
        }
      ]
    },
    {
      "cell_type": "markdown",
      "source": [
        "# ***7. Check for Categorical columns and perform encoding.***"
      ],
      "metadata": {
        "id": "SlQKFoHZSRdb"
      }
    },
    {
      "cell_type": "markdown",
      "source": [
        "There is one Categorical column SEX is replaced by an Integer"
      ],
      "metadata": {
        "id": "szoIZo6CSejS"
      }
    },
    {
      "cell_type": "code",
      "source": [
        "from sklearn.preprocessing import LabelEncoder\n",
        "le = LabelEncoder()\n",
        "df[\"Sex\"] = le.fit_transform(df[\"Sex\"])\n",
        "df[\"Sex\"]"
      ],
      "metadata": {
        "colab": {
          "base_uri": "https://localhost:8080/"
        },
        "id": "R0Ake2FgSfpA",
        "outputId": "a788307c-d145-45d3-da48-b819cca6a37b"
      },
      "execution_count": 15,
      "outputs": [
        {
          "output_type": "execute_result",
          "data": {
            "text/plain": [
              "0       2\n",
              "1       2\n",
              "2       0\n",
              "3       2\n",
              "4       1\n",
              "       ..\n",
              "4172    0\n",
              "4173    2\n",
              "4174    2\n",
              "4175    0\n",
              "4176    2\n",
              "Name: Sex, Length: 4177, dtype: int64"
            ]
          },
          "metadata": {},
          "execution_count": 15
        }
      ]
    },
    {
      "cell_type": "markdown",
      "source": [
        "# ***8. Split the data into dependent and independent variables.***"
      ],
      "metadata": {
        "id": "GVDr996rSsfA"
      }
    },
    {
      "cell_type": "code",
      "source": [
        "x=df.iloc[:,0:8].values\n",
        "y=df.iloc[:,8:9].values"
      ],
      "metadata": {
        "id": "k0SLPSgqSuw5"
      },
      "execution_count": 17,
      "outputs": []
    },
    {
      "cell_type": "code",
      "source": [
        "x"
      ],
      "metadata": {
        "colab": {
          "base_uri": "https://localhost:8080/"
        },
        "id": "GYTQ6ccDS6jB",
        "outputId": "9b3c61ba-2cca-45dc-fa0b-3b1d93e68d44"
      },
      "execution_count": 18,
      "outputs": [
        {
          "output_type": "execute_result",
          "data": {
            "text/plain": [
              "array([[2.    , 0.455 , 0.365 , ..., 0.2245, 0.101 , 0.15  ],\n",
              "       [2.    , 0.35  , 0.265 , ..., 0.0995, 0.0485, 0.07  ],\n",
              "       [0.    , 0.53  , 0.42  , ..., 0.2565, 0.1415, 0.21  ],\n",
              "       ...,\n",
              "       [2.    , 0.6   , 0.475 , ..., 0.5255, 0.2875, 0.308 ],\n",
              "       [0.    , 0.625 , 0.485 , ..., 0.531 , 0.261 , 0.296 ],\n",
              "       [2.    , 0.71  , 0.555 , ..., 0.9455, 0.3765, 0.495 ]])"
            ]
          },
          "metadata": {},
          "execution_count": 18
        }
      ]
    },
    {
      "cell_type": "code",
      "source": [
        "y"
      ],
      "metadata": {
        "colab": {
          "base_uri": "https://localhost:8080/"
        },
        "id": "gzWFqkJvS-9k",
        "outputId": "f8013067-52ff-43d8-a6b6-b76140b69026"
      },
      "execution_count": 19,
      "outputs": [
        {
          "output_type": "execute_result",
          "data": {
            "text/plain": [
              "array([[15],\n",
              "       [ 7],\n",
              "       [ 9],\n",
              "       ...,\n",
              "       [ 9],\n",
              "       [10],\n",
              "       [12]])"
            ]
          },
          "metadata": {},
          "execution_count": 19
        }
      ]
    },
    {
      "cell_type": "markdown",
      "source": [
        "# ***9. Scale the independent variables***"
      ],
      "metadata": {
        "id": "6VY0FOTmTCiN"
      }
    },
    {
      "cell_type": "code",
      "source": [
        "x=df.iloc[:,0:8]\n",
        "print(x.head())"
      ],
      "metadata": {
        "colab": {
          "base_uri": "https://localhost:8080/"
        },
        "id": "RnvB5oIuTEWz",
        "outputId": "b0144194-e483-44a6-bcb5-1d85e329cc7f"
      },
      "execution_count": 20,
      "outputs": [
        {
          "output_type": "stream",
          "name": "stdout",
          "text": [
            "   Sex  Length  Diameter  Height  Whole weight  Shucked weight  \\\n",
            "0    2   0.455     0.365   0.095        0.5140          0.2245   \n",
            "1    2   0.350     0.265   0.090        0.2255          0.0995   \n",
            "2    0   0.530     0.420   0.135        0.6770          0.2565   \n",
            "3    2   0.440     0.365   0.125        0.5160          0.2155   \n",
            "4    1   0.330     0.255   0.080        0.2050          0.0895   \n",
            "\n",
            "   Viscera weight  Shell weight  \n",
            "0          0.1010         0.150  \n",
            "1          0.0485         0.070  \n",
            "2          0.1415         0.210  \n",
            "3          0.1140         0.155  \n",
            "4          0.0395         0.055  \n"
          ]
        }
      ]
    },
    {
      "cell_type": "markdown",
      "source": [
        "# ***10. Split the data into training and testing***"
      ],
      "metadata": {
        "id": "i8UvtRKmTPsJ"
      }
    },
    {
      "cell_type": "code",
      "source": [
        "from sklearn.model_selection import train_test_split\n",
        "x_train,x_test,y_train,y_test = train_test_split(x,y,test_size=0.3,random_state=0)"
      ],
      "metadata": {
        "id": "QTdp6Mi7TRSY"
      },
      "execution_count": 21,
      "outputs": []
    },
    {
      "cell_type": "code",
      "source": [
        "x_train.shape"
      ],
      "metadata": {
        "colab": {
          "base_uri": "https://localhost:8080/"
        },
        "id": "acuHq3FiTYIt",
        "outputId": "27ee7f59-55e3-4f94-bb60-303d5b7b2e2d"
      },
      "execution_count": 22,
      "outputs": [
        {
          "output_type": "execute_result",
          "data": {
            "text/plain": [
              "(2923, 8)"
            ]
          },
          "metadata": {},
          "execution_count": 22
        }
      ]
    },
    {
      "cell_type": "code",
      "source": [
        "x_test.shape"
      ],
      "metadata": {
        "colab": {
          "base_uri": "https://localhost:8080/"
        },
        "id": "4QQzFtp_TbIP",
        "outputId": "dbce1eb3-2e7d-4c5c-a45a-39842547b2bb"
      },
      "execution_count": 23,
      "outputs": [
        {
          "output_type": "execute_result",
          "data": {
            "text/plain": [
              "(1254, 8)"
            ]
          },
          "metadata": {},
          "execution_count": 23
        }
      ]
    },
    {
      "cell_type": "markdown",
      "source": [
        "# ***11. Build the Model***"
      ],
      "metadata": {
        "id": "olyDwqXJTfDZ"
      }
    },
    {
      "cell_type": "code",
      "source": [
        "from sklearn.linear_model import LinearRegression\n",
        "lr = LinearRegression()"
      ],
      "metadata": {
        "id": "pZZs4LJeThh4"
      },
      "execution_count": 24,
      "outputs": []
    },
    {
      "cell_type": "markdown",
      "source": [
        "# ***12. Train the` Model`***"
      ],
      "metadata": {
        "id": "dcH0MVx2Tpqq"
      }
    },
    {
      "cell_type": "code",
      "source": [
        "lr.fit(x_train, y_train)"
      ],
      "metadata": {
        "colab": {
          "base_uri": "https://localhost:8080/"
        },
        "id": "UIe48kIzTwbX",
        "outputId": "c08173af-9e9a-46e8-c3ce-91225a6d73e1"
      },
      "execution_count": 25,
      "outputs": [
        {
          "output_type": "execute_result",
          "data": {
            "text/plain": [
              "LinearRegression()"
            ]
          },
          "metadata": {},
          "execution_count": 25
        }
      ]
    },
    {
      "cell_type": "markdown",
      "source": [
        "# ***13. Test the Model***"
      ],
      "metadata": {
        "id": "GyV9D9FQT0tA"
      }
    },
    {
      "cell_type": "code",
      "source": [
        "y_pred = lr.predict(x_test)\n",
        "print((y_test)[0:6])\n",
        "print((y_pred)[0:6])"
      ],
      "metadata": {
        "colab": {
          "base_uri": "https://localhost:8080/"
        },
        "id": "DG5UTLmhT6K2",
        "outputId": "7bb15d2a-2f6f-4d40-e887-baf6e70b6ee8"
      },
      "execution_count": 26,
      "outputs": [
        {
          "output_type": "stream",
          "name": "stdout",
          "text": [
            "[[13]\n",
            " [ 8]\n",
            " [11]\n",
            " [ 5]\n",
            " [12]\n",
            " [11]]\n",
            "[[13.11640829]\n",
            " [ 9.65691091]\n",
            " [10.35350972]\n",
            " [ 5.63648715]\n",
            " [10.67436485]\n",
            " [11.95341338]]\n"
          ]
        }
      ]
    },
    {
      "cell_type": "markdown",
      "source": [
        "# ***14. Measure the performance using Metrics.***"
      ],
      "metadata": {
        "id": "HUWSrcYST_sV"
      }
    },
    {
      "cell_type": "code",
      "source": [
        "# RMSE(Root Mean Square Error)\n",
        "\n",
        "from sklearn.metrics import mean_squared_error\n",
        "mse = mean_squared_error(y_test, y_pred)\n",
        "rmse = np.sqrt(mse)\n",
        "print(\"RMSE value : {:.2f}\".format(rmse))"
      ],
      "metadata": {
        "colab": {
          "base_uri": "https://localhost:8080/"
        },
        "id": "ULZuOmZtUBoO",
        "outputId": "e04f1b48-c00c-46b9-80b9-df734b26e126"
      },
      "execution_count": 27,
      "outputs": [
        {
          "output_type": "stream",
          "name": "stdout",
          "text": [
            "RMSE value : 2.26\n"
          ]
        }
      ]
    },
    {
      "cell_type": "code",
      "source": [
        "from sklearn.model_selection import cross_val_score\n",
        "cv_scores = cross_val_score(lr, x, y, cv=5)\n",
        "sco=cv_scores.round(4)\n",
        "print(cv_scores.round(4))\n",
        "print(\"Average\",sco.sum()/5)"
      ],
      "metadata": {
        "colab": {
          "base_uri": "https://localhost:8080/"
        },
        "id": "XsOblkidUIdP",
        "outputId": "024206e4-9f74-4c2c-ce5f-f6b9341f29c6"
      },
      "execution_count": 28,
      "outputs": [
        {
          "output_type": "stream",
          "name": "stdout",
          "text": [
            "[0.4113 0.1574 0.4807 0.5046 0.4362]\n",
            "Average 0.39803999999999995\n"
          ]
        }
      ]
    }
  ]
}